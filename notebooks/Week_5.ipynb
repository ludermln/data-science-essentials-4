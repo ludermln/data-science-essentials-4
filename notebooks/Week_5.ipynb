{
 "cells": [
  {
   "cell_type": "code",
   "execution_count": 30,
   "id": "8cf5a81e",
   "metadata": {},
   "outputs": [],
   "source": [
    "import pandas as pd\n",
    "import matplotlib.pyplot as plt\n",
    "import seaborn as sns"
   ]
  },
  {
   "cell_type": "code",
   "execution_count": 31,
   "id": "ae3aabc4",
   "metadata": {},
   "outputs": [],
   "source": [
    "brffs = pd.read_csv('../data/brfss.csv')"
   ]
  },
  {
   "cell_type": "code",
   "execution_count": 32,
   "id": "b6280e54",
   "metadata": {},
   "outputs": [
    {
     "data": {
      "text/plain": [
       "(262049, 40)"
      ]
     },
     "execution_count": 32,
     "metadata": {},
     "output_type": "execute_result"
    }
   ],
   "source": [
    "brffs.shape"
   ]
  },
  {
   "cell_type": "code",
   "execution_count": 33,
   "id": "144d0a40",
   "metadata": {},
   "outputs": [
    {
     "name": "stdout",
     "output_type": "stream",
     "text": [
      "<class 'pandas.core.frame.DataFrame'>\n",
      "RangeIndex: 262049 entries, 0 to 262048\n",
      "Data columns (total 40 columns):\n",
      " #   Column    Non-Null Count   Dtype \n",
      "---  ------    --------------   ----- \n",
      " 0   GENHLTH   262049 non-null  object\n",
      " 1   HLTHPLN1  262049 non-null  object\n",
      " 2   PERSDOC2  262049 non-null  object\n",
      " 3   MEDCOST   262049 non-null  object\n",
      " 4   CHECKUP1  262049 non-null  object\n",
      " 5   _RFHYPE5  262049 non-null  object\n",
      " 6   TOLDHI2   262049 non-null  object\n",
      " 7   CVDINFR4  262049 non-null  object\n",
      " 8   CVDCRHD4  262049 non-null  object\n",
      " 9   CVDSTRK3  262049 non-null  object\n",
      " 10  ASTHMA3   262049 non-null  object\n",
      " 11  CHCSCNCR  262049 non-null  object\n",
      " 12  CHCOCNCR  262049 non-null  object\n",
      " 13  CHCCOPD2  262049 non-null  object\n",
      " 14  ADDEPEV3  262049 non-null  object\n",
      " 15  CHCKDNY2  262049 non-null  object\n",
      " 16  DIABETE4  262049 non-null  object\n",
      " 17  HAVARTH4  262049 non-null  object\n",
      " 18  MARITAL   262049 non-null  object\n",
      " 19  EDUCA     262049 non-null  object\n",
      " 20  RENTHOM1  262049 non-null  object\n",
      " 21  VETERAN3  262049 non-null  object\n",
      " 22  EMPLOY1   262049 non-null  object\n",
      " 23  INCOME2   262049 non-null  object\n",
      " 24  DEAF      262049 non-null  object\n",
      " 25  BLIND     262049 non-null  object\n",
      " 26  DECIDE    262049 non-null  object\n",
      " 27  DIFFWALK  262049 non-null  object\n",
      " 28  DIFFDRES  262049 non-null  object\n",
      " 29  DIFFALON  262049 non-null  object\n",
      " 30  EXERANY2  262049 non-null  object\n",
      " 31  _METSTAT  262049 non-null  object\n",
      " 32  _URBSTAT  262049 non-null  object\n",
      " 33  _IMPRACE  262049 non-null  object\n",
      " 34  _RFBMI5   262049 non-null  object\n",
      " 35  _RFSMOK3  262049 non-null  object\n",
      " 36  _RFBING5  262049 non-null  object\n",
      " 37  _RFDRHV7  262049 non-null  object\n",
      " 38  _TOTINDA  262049 non-null  object\n",
      " 39  target    262049 non-null  bool  \n",
      "dtypes: bool(1), object(39)\n",
      "memory usage: 78.2+ MB\n"
     ]
    }
   ],
   "source": [
    "brffs.info()"
   ]
  },
  {
   "cell_type": "markdown",
   "id": "3053fe85",
   "metadata": {},
   "source": [
    "No NaN values?"
   ]
  },
  {
   "cell_type": "code",
   "execution_count": 34,
   "id": "9b334b33",
   "metadata": {},
   "outputs": [
    {
     "data": {
      "text/html": [
       "<div>\n",
       "<style scoped>\n",
       "    .dataframe tbody tr th:only-of-type {\n",
       "        vertical-align: middle;\n",
       "    }\n",
       "\n",
       "    .dataframe tbody tr th {\n",
       "        vertical-align: top;\n",
       "    }\n",
       "\n",
       "    .dataframe thead th {\n",
       "        text-align: right;\n",
       "    }\n",
       "</style>\n",
       "<table border=\"1\" class=\"dataframe\">\n",
       "  <thead>\n",
       "    <tr style=\"text-align: right;\">\n",
       "      <th></th>\n",
       "      <th>GENHLTH</th>\n",
       "      <th>HLTHPLN1</th>\n",
       "      <th>PERSDOC2</th>\n",
       "      <th>MEDCOST</th>\n",
       "      <th>CHECKUP1</th>\n",
       "      <th>_RFHYPE5</th>\n",
       "      <th>TOLDHI2</th>\n",
       "      <th>CVDINFR4</th>\n",
       "      <th>CVDCRHD4</th>\n",
       "      <th>CVDSTRK3</th>\n",
       "      <th>...</th>\n",
       "      <th>EXERANY2</th>\n",
       "      <th>_METSTAT</th>\n",
       "      <th>_URBSTAT</th>\n",
       "      <th>_IMPRACE</th>\n",
       "      <th>_RFBMI5</th>\n",
       "      <th>_RFSMOK3</th>\n",
       "      <th>_RFBING5</th>\n",
       "      <th>_RFDRHV7</th>\n",
       "      <th>_TOTINDA</th>\n",
       "      <th>target</th>\n",
       "    </tr>\n",
       "  </thead>\n",
       "  <tbody>\n",
       "    <tr>\n",
       "      <th>0</th>\n",
       "      <td>Good</td>\n",
       "      <td>Yes</td>\n",
       "      <td>Yes, only one</td>\n",
       "      <td>No</td>\n",
       "      <td>Within past year (anytime less than 12 months ...</td>\n",
       "      <td>Yes</td>\n",
       "      <td>Yes</td>\n",
       "      <td>No</td>\n",
       "      <td>No</td>\n",
       "      <td>No</td>\n",
       "      <td>...</td>\n",
       "      <td>No</td>\n",
       "      <td>Metropolitan counties (_URBNRRL = 1,2,3,4)</td>\n",
       "      <td>Urban counties (_URBNRRL = 1,2,3,4,5)</td>\n",
       "      <td>Black, Non-Hispanic</td>\n",
       "      <td>Yes</td>\n",
       "      <td>No</td>\n",
       "      <td>No</td>\n",
       "      <td>No</td>\n",
       "      <td>No physical activity or exercise in last 30 days</td>\n",
       "      <td>True</td>\n",
       "    </tr>\n",
       "    <tr>\n",
       "      <th>1</th>\n",
       "      <td>Fair</td>\n",
       "      <td>Yes</td>\n",
       "      <td>Yes, only one</td>\n",
       "      <td>No</td>\n",
       "      <td>Within past year (anytime less than 12 months ...</td>\n",
       "      <td>No</td>\n",
       "      <td>No</td>\n",
       "      <td>No</td>\n",
       "      <td>No</td>\n",
       "      <td>No</td>\n",
       "      <td>...</td>\n",
       "      <td>Yes</td>\n",
       "      <td>Metropolitan counties (_URBNRRL = 1,2,3,4)</td>\n",
       "      <td>Urban counties (_URBNRRL = 1,2,3,4,5)</td>\n",
       "      <td>White, Non-Hispanic</td>\n",
       "      <td>No</td>\n",
       "      <td>No</td>\n",
       "      <td>No</td>\n",
       "      <td>No</td>\n",
       "      <td>Had physical activity or exercise</td>\n",
       "      <td>True</td>\n",
       "    </tr>\n",
       "  </tbody>\n",
       "</table>\n",
       "<p>2 rows × 40 columns</p>\n",
       "</div>"
      ],
      "text/plain": [
       "  GENHLTH HLTHPLN1       PERSDOC2 MEDCOST  \\\n",
       "0    Good      Yes  Yes, only one      No   \n",
       "1    Fair      Yes  Yes, only one      No   \n",
       "\n",
       "                                            CHECKUP1 _RFHYPE5 TOLDHI2  \\\n",
       "0  Within past year (anytime less than 12 months ...      Yes     Yes   \n",
       "1  Within past year (anytime less than 12 months ...       No      No   \n",
       "\n",
       "  CVDINFR4 CVDCRHD4 CVDSTRK3  ... EXERANY2  \\\n",
       "0       No       No       No  ...       No   \n",
       "1       No       No       No  ...      Yes   \n",
       "\n",
       "                                     _METSTAT  \\\n",
       "0  Metropolitan counties (_URBNRRL = 1,2,3,4)   \n",
       "1  Metropolitan counties (_URBNRRL = 1,2,3,4)   \n",
       "\n",
       "                                _URBSTAT             _IMPRACE _RFBMI5  \\\n",
       "0  Urban counties (_URBNRRL = 1,2,3,4,5)  Black, Non-Hispanic     Yes   \n",
       "1  Urban counties (_URBNRRL = 1,2,3,4,5)  White, Non-Hispanic      No   \n",
       "\n",
       "  _RFSMOK3 _RFBING5 _RFDRHV7  \\\n",
       "0       No       No       No   \n",
       "1       No       No       No   \n",
       "\n",
       "                                           _TOTINDA target  \n",
       "0  No physical activity or exercise in last 30 days   True  \n",
       "1                 Had physical activity or exercise   True  \n",
       "\n",
       "[2 rows x 40 columns]"
      ]
     },
     "execution_count": 34,
     "metadata": {},
     "output_type": "execute_result"
    }
   ],
   "source": [
    "brffs.head(2)"
   ]
  },
  {
   "cell_type": "code",
   "execution_count": 35,
   "id": "9109803c",
   "metadata": {},
   "outputs": [
    {
     "data": {
      "text/plain": [
       "Within past year (anytime less than 12 months ago)         215875\n",
       "Within past 2 years (1 year but less than 2 years ago)      24212\n",
       "Within past 5 years (2 years but less than 5 years ago)     11880\n",
       "5 or more years ago                                          9325\n",
       "Never                                                         757\n",
       "Name: CHECKUP1, dtype: int64"
      ]
     },
     "execution_count": 35,
     "metadata": {},
     "output_type": "execute_result"
    }
   ],
   "source": [
    "brffs['CHECKUP1'].value_counts()"
   ]
  },
  {
   "cell_type": "markdown",
   "id": "0ebf7881",
   "metadata": {},
   "source": [
    "Our target variable is the CHECKUP1 column, which contains the responses to the question \"About how long has it been since you last visited a doctor for a routine checkup?   [A routine checkup is a general physical exam, not an exam for a specific injury, illness, or condition.]\" Specifically, we want to try and predict if someone gives an answer besides \"Within past year (anytime less than 12 months ago)\".\n",
    "\n",
    "First, create a new coumn, \"target\" by converting this to a binary outcome. After you do this, drop the CHECKUP1 column from your dataframe so that you don't accidentally make predictions based off of it."
   ]
  },
  {
   "cell_type": "code",
   "execution_count": 36,
   "id": "b3f130c6",
   "metadata": {},
   "outputs": [],
   "source": [
    "categorical_variables = ['CHECKUP1']\n",
    "brffs = pd.get_dummies(brffs, columns = categorical_variables)"
   ]
  },
  {
   "cell_type": "code",
   "execution_count": 37,
   "id": "de8f2432",
   "metadata": {},
   "outputs": [
    {
     "data": {
      "text/html": [
       "<div>\n",
       "<style scoped>\n",
       "    .dataframe tbody tr th:only-of-type {\n",
       "        vertical-align: middle;\n",
       "    }\n",
       "\n",
       "    .dataframe tbody tr th {\n",
       "        vertical-align: top;\n",
       "    }\n",
       "\n",
       "    .dataframe thead th {\n",
       "        text-align: right;\n",
       "    }\n",
       "</style>\n",
       "<table border=\"1\" class=\"dataframe\">\n",
       "  <thead>\n",
       "    <tr style=\"text-align: right;\">\n",
       "      <th></th>\n",
       "      <th>GENHLTH</th>\n",
       "      <th>HLTHPLN1</th>\n",
       "      <th>PERSDOC2</th>\n",
       "      <th>MEDCOST</th>\n",
       "      <th>_RFHYPE5</th>\n",
       "      <th>TOLDHI2</th>\n",
       "      <th>CVDINFR4</th>\n",
       "      <th>CVDCRHD4</th>\n",
       "      <th>CVDSTRK3</th>\n",
       "      <th>ASTHMA3</th>\n",
       "      <th>...</th>\n",
       "      <th>_RFSMOK3</th>\n",
       "      <th>_RFBING5</th>\n",
       "      <th>_RFDRHV7</th>\n",
       "      <th>_TOTINDA</th>\n",
       "      <th>target</th>\n",
       "      <th>CHECKUP1_5 or more years ago</th>\n",
       "      <th>CHECKUP1_Never</th>\n",
       "      <th>CHECKUP1_Within past 2 years (1 year but less than 2 years ago)</th>\n",
       "      <th>CHECKUP1_Within past 5 years (2 years but less than 5 years ago)</th>\n",
       "      <th>CHECKUP1_Within past year (anytime less than 12 months ago)</th>\n",
       "    </tr>\n",
       "  </thead>\n",
       "  <tbody>\n",
       "    <tr>\n",
       "      <th>0</th>\n",
       "      <td>Good</td>\n",
       "      <td>Yes</td>\n",
       "      <td>Yes, only one</td>\n",
       "      <td>No</td>\n",
       "      <td>Yes</td>\n",
       "      <td>Yes</td>\n",
       "      <td>No</td>\n",
       "      <td>No</td>\n",
       "      <td>No</td>\n",
       "      <td>No</td>\n",
       "      <td>...</td>\n",
       "      <td>No</td>\n",
       "      <td>No</td>\n",
       "      <td>No</td>\n",
       "      <td>No physical activity or exercise in last 30 days</td>\n",
       "      <td>True</td>\n",
       "      <td>0</td>\n",
       "      <td>0</td>\n",
       "      <td>0</td>\n",
       "      <td>0</td>\n",
       "      <td>1</td>\n",
       "    </tr>\n",
       "    <tr>\n",
       "      <th>1</th>\n",
       "      <td>Fair</td>\n",
       "      <td>Yes</td>\n",
       "      <td>Yes, only one</td>\n",
       "      <td>No</td>\n",
       "      <td>No</td>\n",
       "      <td>No</td>\n",
       "      <td>No</td>\n",
       "      <td>No</td>\n",
       "      <td>No</td>\n",
       "      <td>No</td>\n",
       "      <td>...</td>\n",
       "      <td>No</td>\n",
       "      <td>No</td>\n",
       "      <td>No</td>\n",
       "      <td>Had physical activity or exercise</td>\n",
       "      <td>True</td>\n",
       "      <td>0</td>\n",
       "      <td>0</td>\n",
       "      <td>0</td>\n",
       "      <td>0</td>\n",
       "      <td>1</td>\n",
       "    </tr>\n",
       "  </tbody>\n",
       "</table>\n",
       "<p>2 rows × 44 columns</p>\n",
       "</div>"
      ],
      "text/plain": [
       "  GENHLTH HLTHPLN1       PERSDOC2 MEDCOST _RFHYPE5 TOLDHI2 CVDINFR4 CVDCRHD4  \\\n",
       "0    Good      Yes  Yes, only one      No      Yes     Yes       No       No   \n",
       "1    Fair      Yes  Yes, only one      No       No      No       No       No   \n",
       "\n",
       "  CVDSTRK3 ASTHMA3  ... _RFSMOK3 _RFBING5 _RFDRHV7  \\\n",
       "0       No      No  ...       No       No       No   \n",
       "1       No      No  ...       No       No       No   \n",
       "\n",
       "                                           _TOTINDA target  \\\n",
       "0  No physical activity or exercise in last 30 days   True   \n",
       "1                 Had physical activity or exercise   True   \n",
       "\n",
       "  CHECKUP1_5 or more years ago CHECKUP1_Never  \\\n",
       "0                            0              0   \n",
       "1                            0              0   \n",
       "\n",
       "  CHECKUP1_Within past 2 years (1 year but less than 2 years ago)  \\\n",
       "0                                                  0                \n",
       "1                                                  0                \n",
       "\n",
       "  CHECKUP1_Within past 5 years (2 years but less than 5 years ago)  \\\n",
       "0                                                  0                 \n",
       "1                                                  0                 \n",
       "\n",
       "  CHECKUP1_Within past year (anytime less than 12 months ago)  \n",
       "0                                                  1           \n",
       "1                                                  1           \n",
       "\n",
       "[2 rows x 44 columns]"
      ]
     },
     "execution_count": 37,
     "metadata": {},
     "output_type": "execute_result"
    }
   ],
   "source": [
    "brffs.head(2)"
   ]
  },
  {
   "cell_type": "markdown",
   "id": "84d39abb",
   "metadata": {},
   "source": [
    "do i really need to drop 'CHECKUP1' column? Or did it disappear after I split it out? "
   ]
  },
  {
   "cell_type": "code",
   "execution_count": 38,
   "id": "69c88a82",
   "metadata": {},
   "outputs": [
    {
     "data": {
      "text/plain": [
       "0    261292\n",
       "1       757\n",
       "Name: CHECKUP1_Never, dtype: int64"
      ]
     },
     "execution_count": 38,
     "metadata": {},
     "output_type": "execute_result"
    }
   ],
   "source": [
    "brffs['CHECKUP1_Never'].value_counts()"
   ]
  },
  {
   "cell_type": "markdown",
   "id": "ca7eb789",
   "metadata": {},
   "source": [
    "Then, experiment with making a logistic regression model to predict the target variable using one or more of the other columns. Note that you will need to convert the precictor columns into dummy variable prior to fitting a model. What do you find?"
   ]
  },
  {
   "cell_type": "code",
   "execution_count": 39,
   "id": "764ee1e2",
   "metadata": {},
   "outputs": [],
   "source": [
    "brffs.rename(columns={'CHECKUP1_Within past year (anytime less than 12 months ago)': 'CHECKUP1_oneyr'}, inplace=True)"
   ]
  },
  {
   "cell_type": "code",
   "execution_count": 40,
   "id": "99b9d549",
   "metadata": {},
   "outputs": [
    {
     "data": {
      "text/html": [
       "<div>\n",
       "<style scoped>\n",
       "    .dataframe tbody tr th:only-of-type {\n",
       "        vertical-align: middle;\n",
       "    }\n",
       "\n",
       "    .dataframe tbody tr th {\n",
       "        vertical-align: top;\n",
       "    }\n",
       "\n",
       "    .dataframe thead th {\n",
       "        text-align: right;\n",
       "    }\n",
       "</style>\n",
       "<table border=\"1\" class=\"dataframe\">\n",
       "  <thead>\n",
       "    <tr style=\"text-align: right;\">\n",
       "      <th></th>\n",
       "      <th>GENHLTH</th>\n",
       "      <th>HLTHPLN1</th>\n",
       "      <th>PERSDOC2</th>\n",
       "      <th>MEDCOST</th>\n",
       "      <th>_RFHYPE5</th>\n",
       "      <th>TOLDHI2</th>\n",
       "      <th>CVDINFR4</th>\n",
       "      <th>CVDCRHD4</th>\n",
       "      <th>CVDSTRK3</th>\n",
       "      <th>ASTHMA3</th>\n",
       "      <th>...</th>\n",
       "      <th>_RFSMOK3</th>\n",
       "      <th>_RFBING5</th>\n",
       "      <th>_RFDRHV7</th>\n",
       "      <th>_TOTINDA</th>\n",
       "      <th>target</th>\n",
       "      <th>CHECKUP1_5 or more years ago</th>\n",
       "      <th>CHECKUP1_Never</th>\n",
       "      <th>CHECKUP1_Within past 2 years (1 year but less than 2 years ago)</th>\n",
       "      <th>CHECKUP1_Within past 5 years (2 years but less than 5 years ago)</th>\n",
       "      <th>CHECKUP1_oneyr</th>\n",
       "    </tr>\n",
       "  </thead>\n",
       "  <tbody>\n",
       "    <tr>\n",
       "      <th>0</th>\n",
       "      <td>Good</td>\n",
       "      <td>Yes</td>\n",
       "      <td>Yes, only one</td>\n",
       "      <td>No</td>\n",
       "      <td>Yes</td>\n",
       "      <td>Yes</td>\n",
       "      <td>No</td>\n",
       "      <td>No</td>\n",
       "      <td>No</td>\n",
       "      <td>No</td>\n",
       "      <td>...</td>\n",
       "      <td>No</td>\n",
       "      <td>No</td>\n",
       "      <td>No</td>\n",
       "      <td>No physical activity or exercise in last 30 days</td>\n",
       "      <td>True</td>\n",
       "      <td>0</td>\n",
       "      <td>0</td>\n",
       "      <td>0</td>\n",
       "      <td>0</td>\n",
       "      <td>1</td>\n",
       "    </tr>\n",
       "    <tr>\n",
       "      <th>1</th>\n",
       "      <td>Fair</td>\n",
       "      <td>Yes</td>\n",
       "      <td>Yes, only one</td>\n",
       "      <td>No</td>\n",
       "      <td>No</td>\n",
       "      <td>No</td>\n",
       "      <td>No</td>\n",
       "      <td>No</td>\n",
       "      <td>No</td>\n",
       "      <td>No</td>\n",
       "      <td>...</td>\n",
       "      <td>No</td>\n",
       "      <td>No</td>\n",
       "      <td>No</td>\n",
       "      <td>Had physical activity or exercise</td>\n",
       "      <td>True</td>\n",
       "      <td>0</td>\n",
       "      <td>0</td>\n",
       "      <td>0</td>\n",
       "      <td>0</td>\n",
       "      <td>1</td>\n",
       "    </tr>\n",
       "  </tbody>\n",
       "</table>\n",
       "<p>2 rows × 44 columns</p>\n",
       "</div>"
      ],
      "text/plain": [
       "  GENHLTH HLTHPLN1       PERSDOC2 MEDCOST _RFHYPE5 TOLDHI2 CVDINFR4 CVDCRHD4  \\\n",
       "0    Good      Yes  Yes, only one      No      Yes     Yes       No       No   \n",
       "1    Fair      Yes  Yes, only one      No       No      No       No       No   \n",
       "\n",
       "  CVDSTRK3 ASTHMA3  ... _RFSMOK3 _RFBING5 _RFDRHV7  \\\n",
       "0       No      No  ...       No       No       No   \n",
       "1       No      No  ...       No       No       No   \n",
       "\n",
       "                                           _TOTINDA target  \\\n",
       "0  No physical activity or exercise in last 30 days   True   \n",
       "1                 Had physical activity or exercise   True   \n",
       "\n",
       "  CHECKUP1_5 or more years ago CHECKUP1_Never  \\\n",
       "0                            0              0   \n",
       "1                            0              0   \n",
       "\n",
       "  CHECKUP1_Within past 2 years (1 year but less than 2 years ago)  \\\n",
       "0                                                  0                \n",
       "1                                                  0                \n",
       "\n",
       "  CHECKUP1_Within past 5 years (2 years but less than 5 years ago)  \\\n",
       "0                                                  0                 \n",
       "1                                                  0                 \n",
       "\n",
       "  CHECKUP1_oneyr  \n",
       "0              1  \n",
       "1              1  \n",
       "\n",
       "[2 rows x 44 columns]"
      ]
     },
     "execution_count": 40,
     "metadata": {},
     "output_type": "execute_result"
    }
   ],
   "source": [
    "brffs.head(2)"
   ]
  },
  {
   "cell_type": "code",
   "execution_count": 41,
   "id": "bb2d32c1",
   "metadata": {},
   "outputs": [],
   "source": [
    "categorical_variables = ['MEDCOST']\n",
    "brffs = pd.get_dummies(brffs, columns = categorical_variables)"
   ]
  },
  {
   "cell_type": "code",
   "execution_count": 42,
   "id": "5242c945",
   "metadata": {},
   "outputs": [
    {
     "data": {
      "text/html": [
       "<div>\n",
       "<style scoped>\n",
       "    .dataframe tbody tr th:only-of-type {\n",
       "        vertical-align: middle;\n",
       "    }\n",
       "\n",
       "    .dataframe tbody tr th {\n",
       "        vertical-align: top;\n",
       "    }\n",
       "\n",
       "    .dataframe thead th {\n",
       "        text-align: right;\n",
       "    }\n",
       "</style>\n",
       "<table border=\"1\" class=\"dataframe\">\n",
       "  <thead>\n",
       "    <tr style=\"text-align: right;\">\n",
       "      <th></th>\n",
       "      <th>GENHLTH</th>\n",
       "      <th>HLTHPLN1</th>\n",
       "      <th>PERSDOC2</th>\n",
       "      <th>_RFHYPE5</th>\n",
       "      <th>TOLDHI2</th>\n",
       "      <th>CVDINFR4</th>\n",
       "      <th>CVDCRHD4</th>\n",
       "      <th>CVDSTRK3</th>\n",
       "      <th>ASTHMA3</th>\n",
       "      <th>CHCSCNCR</th>\n",
       "      <th>...</th>\n",
       "      <th>_RFDRHV7</th>\n",
       "      <th>_TOTINDA</th>\n",
       "      <th>target</th>\n",
       "      <th>CHECKUP1_5 or more years ago</th>\n",
       "      <th>CHECKUP1_Never</th>\n",
       "      <th>CHECKUP1_Within past 2 years (1 year but less than 2 years ago)</th>\n",
       "      <th>CHECKUP1_Within past 5 years (2 years but less than 5 years ago)</th>\n",
       "      <th>CHECKUP1_oneyr</th>\n",
       "      <th>MEDCOST_No</th>\n",
       "      <th>MEDCOST_Yes</th>\n",
       "    </tr>\n",
       "  </thead>\n",
       "  <tbody>\n",
       "    <tr>\n",
       "      <th>0</th>\n",
       "      <td>Good</td>\n",
       "      <td>Yes</td>\n",
       "      <td>Yes, only one</td>\n",
       "      <td>Yes</td>\n",
       "      <td>Yes</td>\n",
       "      <td>No</td>\n",
       "      <td>No</td>\n",
       "      <td>No</td>\n",
       "      <td>No</td>\n",
       "      <td>No</td>\n",
       "      <td>...</td>\n",
       "      <td>No</td>\n",
       "      <td>No physical activity or exercise in last 30 days</td>\n",
       "      <td>True</td>\n",
       "      <td>0</td>\n",
       "      <td>0</td>\n",
       "      <td>0</td>\n",
       "      <td>0</td>\n",
       "      <td>1</td>\n",
       "      <td>1</td>\n",
       "      <td>0</td>\n",
       "    </tr>\n",
       "    <tr>\n",
       "      <th>1</th>\n",
       "      <td>Fair</td>\n",
       "      <td>Yes</td>\n",
       "      <td>Yes, only one</td>\n",
       "      <td>No</td>\n",
       "      <td>No</td>\n",
       "      <td>No</td>\n",
       "      <td>No</td>\n",
       "      <td>No</td>\n",
       "      <td>No</td>\n",
       "      <td>No</td>\n",
       "      <td>...</td>\n",
       "      <td>No</td>\n",
       "      <td>Had physical activity or exercise</td>\n",
       "      <td>True</td>\n",
       "      <td>0</td>\n",
       "      <td>0</td>\n",
       "      <td>0</td>\n",
       "      <td>0</td>\n",
       "      <td>1</td>\n",
       "      <td>1</td>\n",
       "      <td>0</td>\n",
       "    </tr>\n",
       "  </tbody>\n",
       "</table>\n",
       "<p>2 rows × 45 columns</p>\n",
       "</div>"
      ],
      "text/plain": [
       "  GENHLTH HLTHPLN1       PERSDOC2 _RFHYPE5 TOLDHI2 CVDINFR4 CVDCRHD4 CVDSTRK3  \\\n",
       "0    Good      Yes  Yes, only one      Yes     Yes       No       No       No   \n",
       "1    Fair      Yes  Yes, only one       No      No       No       No       No   \n",
       "\n",
       "  ASTHMA3 CHCSCNCR  ... _RFDRHV7  \\\n",
       "0      No       No  ...       No   \n",
       "1      No       No  ...       No   \n",
       "\n",
       "                                           _TOTINDA target  \\\n",
       "0  No physical activity or exercise in last 30 days   True   \n",
       "1                 Had physical activity or exercise   True   \n",
       "\n",
       "  CHECKUP1_5 or more years ago CHECKUP1_Never  \\\n",
       "0                            0              0   \n",
       "1                            0              0   \n",
       "\n",
       "  CHECKUP1_Within past 2 years (1 year but less than 2 years ago)  \\\n",
       "0                                                  0                \n",
       "1                                                  0                \n",
       "\n",
       "  CHECKUP1_Within past 5 years (2 years but less than 5 years ago)  \\\n",
       "0                                                  0                 \n",
       "1                                                  0                 \n",
       "\n",
       "  CHECKUP1_oneyr MEDCOST_No MEDCOST_Yes  \n",
       "0              1          1           0  \n",
       "1              1          1           0  \n",
       "\n",
       "[2 rows x 45 columns]"
      ]
     },
     "execution_count": 42,
     "metadata": {},
     "output_type": "execute_result"
    }
   ],
   "source": [
    "brffs.head(2)"
   ]
  },
  {
   "cell_type": "code",
   "execution_count": 43,
   "id": "c01288f9",
   "metadata": {},
   "outputs": [],
   "source": [
    "X = brffs[['MEDCOST_No']]                 # Predictor variable (as a DataFrame)\n",
    "y = brffs['CHECKUP1_oneyr']                   # Target"
   ]
  },
  {
   "cell_type": "code",
   "execution_count": 44,
   "id": "2cfec36a",
   "metadata": {},
   "outputs": [],
   "source": [
    "from sklearn.model_selection import train_test_split"
   ]
  },
  {
   "cell_type": "code",
   "execution_count": 45,
   "id": "bcc30fca",
   "metadata": {},
   "outputs": [],
   "source": [
    "X_train, X_test, y_train, y_test = train_test_split(X, y,\n",
    "                                                    stratify = y,     # Keep the same proportions of the target in the training and test data\n",
    "                                                    test_size = 0.25,\n",
    "                                                    random_state = 321)"
   ]
  },
  {
   "cell_type": "code",
   "execution_count": 46,
   "id": "194a3975",
   "metadata": {},
   "outputs": [],
   "source": [
    "from sklearn.linear_model import LogisticRegression"
   ]
  },
  {
   "cell_type": "code",
   "execution_count": 47,
   "id": "ba6ab0ab",
   "metadata": {},
   "outputs": [
    {
     "data": {
      "text/plain": [
       "LogisticRegression()"
      ]
     },
     "execution_count": 47,
     "metadata": {},
     "output_type": "execute_result"
    }
   ],
   "source": [
    "logreg = LogisticRegression()         # Create a logistic regression model\n",
    "logreg.fit(X_train, y_train)          # Fit it to the training data"
   ]
  },
  {
   "cell_type": "code",
   "execution_count": 48,
   "id": "c89e33d3",
   "metadata": {},
   "outputs": [
    {
     "data": {
      "text/plain": [
       "array([0.69426987])"
      ]
     },
     "execution_count": 48,
     "metadata": {},
     "output_type": "execute_result"
    }
   ],
   "source": [
    "logreg.intercept_"
   ]
  },
  {
   "cell_type": "code",
   "execution_count": 49,
   "id": "6f99deae",
   "metadata": {},
   "outputs": [
    {
     "data": {
      "text/plain": [
       "array([[0.96518083]])"
      ]
     },
     "execution_count": 49,
     "metadata": {},
     "output_type": "execute_result"
    }
   ],
   "source": [
    "logreg.coef_"
   ]
  },
  {
   "cell_type": "code",
   "execution_count": 50,
   "id": "0fcd956c",
   "metadata": {},
   "outputs": [],
   "source": [
    "y_pred_prob = logreg.predict_proba(X_test)[:,1]"
   ]
  },
  {
   "cell_type": "code",
   "execution_count": 54,
   "id": "9a807bc7",
   "metadata": {},
   "outputs": [
    {
     "name": "stdout",
     "output_type": "stream",
     "text": [
      "Patient Information:\n",
      "MEDCOST_No    0\n",
      "Name: 192704, dtype: uint8\n",
      "---------------------------------\n",
      "Predicted Probability of Seeing the doctor in the last year: 0.6669161070522127\n",
      "Actual: 1\n"
     ]
    }
   ],
   "source": [
    "i = 4\n",
    "\n",
    "print('Patient Information:\\n{}'.format(X_test.iloc[i]))\n",
    "print('---------------------------------')\n",
    "print('Predicted Probability of Seeing the doctor in the last year: {}'.format(y_pred_prob[i]))\n",
    "print('Actual: {}'.format(y_test.iloc[i]))"
   ]
  },
  {
   "cell_type": "code",
   "execution_count": null,
   "id": "5172b1fb",
   "metadata": {},
   "outputs": [],
   "source": []
  }
 ],
 "metadata": {
  "kernelspec": {
   "display_name": "Python 3",
   "language": "python",
   "name": "python3"
  },
  "language_info": {
   "codemirror_mode": {
    "name": "ipython",
    "version": 3
   },
   "file_extension": ".py",
   "mimetype": "text/x-python",
   "name": "python",
   "nbconvert_exporter": "python",
   "pygments_lexer": "ipython3",
   "version": "3.8.8"
  }
 },
 "nbformat": 4,
 "nbformat_minor": 5
}
