{
 "cells": [
  {
   "cell_type": "code",
   "execution_count": 1,
   "id": "aea43b3c",
   "metadata": {},
   "outputs": [],
   "source": [
    "import pandas as pd"
   ]
  },
  {
   "cell_type": "code",
   "execution_count": 2,
   "id": "889827f0",
   "metadata": {},
   "outputs": [],
   "source": [
    "physicians = pd.read_csv('../data/primary_care_physicians.csv')"
   ]
  },
  {
   "cell_type": "markdown",
   "id": "997c2efd",
   "metadata": {},
   "source": [
    " 2. Filter `physicians` down to just the counties in Tennessee. Save the filtered dataframe back to `physicians`. Verify that the resulting dataframe has 95 rows."
   ]
  },
  {
   "cell_type": "code",
   "execution_count": 3,
   "id": "3b5c0181",
   "metadata": {},
   "outputs": [],
   "source": [
    "physicians = physicians.loc[physicians['state'] == 'Tennessee']"
   ]
  },
  {
   "cell_type": "code",
   "execution_count": 4,
   "id": "5808ae3c",
   "metadata": {},
   "outputs": [
    {
     "data": {
      "text/html": [
       "<div>\n",
       "<style scoped>\n",
       "    .dataframe tbody tr th:only-of-type {\n",
       "        vertical-align: middle;\n",
       "    }\n",
       "\n",
       "    .dataframe tbody tr th {\n",
       "        vertical-align: top;\n",
       "    }\n",
       "\n",
       "    .dataframe thead th {\n",
       "        text-align: right;\n",
       "    }\n",
       "</style>\n",
       "<table border=\"1\" class=\"dataframe\">\n",
       "  <thead>\n",
       "    <tr style=\"text-align: right;\">\n",
       "      <th></th>\n",
       "      <th>FIPS</th>\n",
       "      <th>state</th>\n",
       "      <th>county</th>\n",
       "      <th>primary_care_physicians</th>\n",
       "    </tr>\n",
       "  </thead>\n",
       "  <tbody>\n",
       "    <tr>\n",
       "      <th>2432</th>\n",
       "      <td>47001</td>\n",
       "      <td>Tennessee</td>\n",
       "      <td>Anderson</td>\n",
       "      <td>39.0</td>\n",
       "    </tr>\n",
       "    <tr>\n",
       "      <th>2433</th>\n",
       "      <td>47003</td>\n",
       "      <td>Tennessee</td>\n",
       "      <td>Bedford</td>\n",
       "      <td>15.0</td>\n",
       "    </tr>\n",
       "    <tr>\n",
       "      <th>2434</th>\n",
       "      <td>47005</td>\n",
       "      <td>Tennessee</td>\n",
       "      <td>Benton</td>\n",
       "      <td>3.0</td>\n",
       "    </tr>\n",
       "    <tr>\n",
       "      <th>2435</th>\n",
       "      <td>47007</td>\n",
       "      <td>Tennessee</td>\n",
       "      <td>Bledsoe</td>\n",
       "      <td>1.0</td>\n",
       "    </tr>\n",
       "    <tr>\n",
       "      <th>2436</th>\n",
       "      <td>47009</td>\n",
       "      <td>Tennessee</td>\n",
       "      <td>Blount</td>\n",
       "      <td>90.0</td>\n",
       "    </tr>\n",
       "  </tbody>\n",
       "</table>\n",
       "</div>"
      ],
      "text/plain": [
       "       FIPS      state    county  primary_care_physicians\n",
       "2432  47001  Tennessee  Anderson                     39.0\n",
       "2433  47003  Tennessee   Bedford                     15.0\n",
       "2434  47005  Tennessee    Benton                      3.0\n",
       "2435  47007  Tennessee   Bledsoe                      1.0\n",
       "2436  47009  Tennessee    Blount                     90.0"
      ]
     },
     "execution_count": 4,
     "metadata": {},
     "output_type": "execute_result"
    }
   ],
   "source": [
    "physicians.head()"
   ]
  },
  {
   "cell_type": "code",
   "execution_count": 5,
   "id": "1628ec6d",
   "metadata": {},
   "outputs": [
    {
     "data": {
      "text/plain": [
       "(95, 4)"
      ]
     },
     "execution_count": 5,
     "metadata": {},
     "output_type": "execute_result"
    }
   ],
   "source": [
    "physicians.shape"
   ]
  },
  {
   "cell_type": "markdown",
   "id": "4bdc1fd1",
   "metadata": {},
   "source": [
    " 3. Look at the distribution of the number of primary care physicians. What do you notice?"
   ]
  },
  {
   "cell_type": "code",
   "execution_count": 6,
   "id": "8927c567",
   "metadata": {},
   "outputs": [
    {
     "data": {
      "text/plain": [
       "2.0      8\n",
       "5.0      7\n",
       "9.0      5\n",
       "0.0      4\n",
       "12.0     4\n",
       "4.0      4\n",
       "18.0     4\n",
       "1.0      4\n",
       "3.0      4\n",
       "21.0     3\n",
       "6.0      3\n",
       "15.0     3\n",
       "19.0     2\n",
       "14.0     2\n",
       "26.0     2\n",
       "23.0     2\n",
       "38.0     2\n",
       "8.0      2\n",
       "39.0     2\n",
       "22.0     2\n",
       "55.0     1\n",
       "806.0    1\n",
       "13.0     1\n",
       "91.0     1\n",
       "520.0    1\n",
       "27.0     1\n",
       "53.0     1\n",
       "11.0     1\n",
       "137.0    1\n",
       "82.0     1\n",
       "199.0    1\n",
       "52.0     1\n",
       "90.0     1\n",
       "403.0    1\n",
       "16.0     1\n",
       "40.0     1\n",
       "37.0     1\n",
       "7.0      1\n",
       "30.0     1\n",
       "226.0    1\n",
       "338.0    1\n",
       "10.0     1\n",
       "43.0     1\n",
       "129.0    1\n",
       "665.0    1\n",
       "17.0     1\n",
       "Name: primary_care_physicians, dtype: int64"
      ]
     },
     "execution_count": 6,
     "metadata": {},
     "output_type": "execute_result"
    }
   ],
   "source": [
    "physicians['primary_care_physicians'].value_counts()"
   ]
  },
  {
   "cell_type": "code",
   "execution_count": 7,
   "id": "d1d3daef",
   "metadata": {},
   "outputs": [
    {
     "data": {
      "text/plain": [
       "count     95.000000\n",
       "mean      51.042105\n",
       "std      129.311426\n",
       "min        0.000000\n",
       "25%        4.500000\n",
       "50%       12.000000\n",
       "75%       26.500000\n",
       "max      806.000000\n",
       "Name: primary_care_physicians, dtype: float64"
      ]
     },
     "execution_count": 7,
     "metadata": {},
     "output_type": "execute_result"
    }
   ],
   "source": [
    "physicians['primary_care_physicians'].describe()"
   ]
  },
  {
   "cell_type": "code",
   "execution_count": 8,
   "id": "823a29bd",
   "metadata": {},
   "outputs": [
    {
     "data": {
      "text/html": [
       "<div>\n",
       "<style scoped>\n",
       "    .dataframe tbody tr th:only-of-type {\n",
       "        vertical-align: middle;\n",
       "    }\n",
       "\n",
       "    .dataframe tbody tr th {\n",
       "        vertical-align: top;\n",
       "    }\n",
       "\n",
       "    .dataframe thead th {\n",
       "        text-align: right;\n",
       "    }\n",
       "</style>\n",
       "<table border=\"1\" class=\"dataframe\">\n",
       "  <thead>\n",
       "    <tr style=\"text-align: right;\">\n",
       "      <th></th>\n",
       "      <th>FIPS</th>\n",
       "      <th>state</th>\n",
       "      <th>county</th>\n",
       "      <th>primary_care_physicians</th>\n",
       "    </tr>\n",
       "  </thead>\n",
       "  <tbody>\n",
       "    <tr>\n",
       "      <th>2448</th>\n",
       "      <td>47033</td>\n",
       "      <td>Tennessee</td>\n",
       "      <td>Crockett</td>\n",
       "      <td>0.0</td>\n",
       "    </tr>\n",
       "    <tr>\n",
       "      <th>2462</th>\n",
       "      <td>47061</td>\n",
       "      <td>Tennessee</td>\n",
       "      <td>Grundy</td>\n",
       "      <td>0.0</td>\n",
       "    </tr>\n",
       "    <tr>\n",
       "      <th>2479</th>\n",
       "      <td>47095</td>\n",
       "      <td>Tennessee</td>\n",
       "      <td>Lake</td>\n",
       "      <td>0.0</td>\n",
       "    </tr>\n",
       "    <tr>\n",
       "      <th>2519</th>\n",
       "      <td>47175</td>\n",
       "      <td>Tennessee</td>\n",
       "      <td>Van Buren</td>\n",
       "      <td>0.0</td>\n",
       "    </tr>\n",
       "  </tbody>\n",
       "</table>\n",
       "</div>"
      ],
      "text/plain": [
       "       FIPS      state     county  primary_care_physicians\n",
       "2448  47033  Tennessee   Crockett                      0.0\n",
       "2462  47061  Tennessee     Grundy                      0.0\n",
       "2479  47095  Tennessee       Lake                      0.0\n",
       "2519  47175  Tennessee  Van Buren                      0.0"
      ]
     },
     "execution_count": 8,
     "metadata": {},
     "output_type": "execute_result"
    }
   ],
   "source": [
    "physicians[physicians['primary_care_physicians'] == 0]"
   ]
  },
  {
   "cell_type": "markdown",
   "id": "0f6251a1",
   "metadata": {},
   "source": [
    " 4. Now, import the population by county dataset (`population_by_county.csv`) into a DataFrame named `population`."
   ]
  },
  {
   "cell_type": "code",
   "execution_count": 9,
   "id": "265bf4e2",
   "metadata": {},
   "outputs": [],
   "source": [
    "population = pd.read_csv('../data/population_by_county.csv')"
   ]
  },
  {
   "cell_type": "code",
   "execution_count": 10,
   "id": "1fa1bab3",
   "metadata": {},
   "outputs": [
    {
     "data": {
      "text/html": [
       "<div>\n",
       "<style scoped>\n",
       "    .dataframe tbody tr th:only-of-type {\n",
       "        vertical-align: middle;\n",
       "    }\n",
       "\n",
       "    .dataframe tbody tr th {\n",
       "        vertical-align: top;\n",
       "    }\n",
       "\n",
       "    .dataframe thead th {\n",
       "        text-align: right;\n",
       "    }\n",
       "</style>\n",
       "<table border=\"1\" class=\"dataframe\">\n",
       "  <thead>\n",
       "    <tr style=\"text-align: right;\">\n",
       "      <th></th>\n",
       "      <th>FIPS</th>\n",
       "      <th>population</th>\n",
       "      <th>county</th>\n",
       "      <th>state</th>\n",
       "      <th>urban</th>\n",
       "    </tr>\n",
       "  </thead>\n",
       "  <tbody>\n",
       "    <tr>\n",
       "      <th>0</th>\n",
       "      <td>17051</td>\n",
       "      <td>21565</td>\n",
       "      <td>Fayette County</td>\n",
       "      <td>ILLINOIS</td>\n",
       "      <td>Rural</td>\n",
       "    </tr>\n",
       "    <tr>\n",
       "      <th>1</th>\n",
       "      <td>17107</td>\n",
       "      <td>29003</td>\n",
       "      <td>Logan County</td>\n",
       "      <td>ILLINOIS</td>\n",
       "      <td>Rural</td>\n",
       "    </tr>\n",
       "    <tr>\n",
       "      <th>2</th>\n",
       "      <td>17165</td>\n",
       "      <td>23994</td>\n",
       "      <td>Saline County</td>\n",
       "      <td>ILLINOIS</td>\n",
       "      <td>Rural</td>\n",
       "    </tr>\n",
       "    <tr>\n",
       "      <th>3</th>\n",
       "      <td>17097</td>\n",
       "      <td>701473</td>\n",
       "      <td>Lake County</td>\n",
       "      <td>ILLINOIS</td>\n",
       "      <td>Urban</td>\n",
       "    </tr>\n",
       "    <tr>\n",
       "      <th>4</th>\n",
       "      <td>17127</td>\n",
       "      <td>14219</td>\n",
       "      <td>Massac County</td>\n",
       "      <td>ILLINOIS</td>\n",
       "      <td>Rural</td>\n",
       "    </tr>\n",
       "  </tbody>\n",
       "</table>\n",
       "</div>"
      ],
      "text/plain": [
       "    FIPS  population          county     state  urban\n",
       "0  17051       21565  Fayette County  ILLINOIS  Rural\n",
       "1  17107       29003    Logan County  ILLINOIS  Rural\n",
       "2  17165       23994   Saline County  ILLINOIS  Rural\n",
       "3  17097      701473     Lake County  ILLINOIS  Urban\n",
       "4  17127       14219   Massac County  ILLINOIS  Rural"
      ]
     },
     "execution_count": 10,
     "metadata": {},
     "output_type": "execute_result"
    }
   ],
   "source": [
    "population.head()"
   ]
  },
  {
   "cell_type": "markdown",
   "id": "17be1b43",
   "metadata": {},
   "source": [
    " 5. Merge the `physicians` DataFrame with the `population` DataFrame. Keep only the values for Tennessee. When you merge, be sure the include both the `population` and `urban` columns in the merged results. Save the result of the merge back to `physicians`."
   ]
  },
  {
   "cell_type": "code",
   "execution_count": 11,
   "id": "46a3c222",
   "metadata": {},
   "outputs": [],
   "source": [
    "population = population.loc[population['state'] == 'TENNESSEE']"
   ]
  },
  {
   "cell_type": "code",
   "execution_count": 12,
   "id": "7d6576ff",
   "metadata": {},
   "outputs": [
    {
     "data": {
      "text/html": [
       "<div>\n",
       "<style scoped>\n",
       "    .dataframe tbody tr th:only-of-type {\n",
       "        vertical-align: middle;\n",
       "    }\n",
       "\n",
       "    .dataframe tbody tr th {\n",
       "        vertical-align: top;\n",
       "    }\n",
       "\n",
       "    .dataframe thead th {\n",
       "        text-align: right;\n",
       "    }\n",
       "</style>\n",
       "<table border=\"1\" class=\"dataframe\">\n",
       "  <thead>\n",
       "    <tr style=\"text-align: right;\">\n",
       "      <th></th>\n",
       "      <th>FIPS</th>\n",
       "      <th>population</th>\n",
       "      <th>county</th>\n",
       "      <th>state</th>\n",
       "      <th>urban</th>\n",
       "    </tr>\n",
       "  </thead>\n",
       "  <tbody>\n",
       "    <tr>\n",
       "      <th>283</th>\n",
       "      <td>47165</td>\n",
       "      <td>183437</td>\n",
       "      <td>Sumner County</td>\n",
       "      <td>TENNESSEE</td>\n",
       "      <td>Urban</td>\n",
       "    </tr>\n",
       "    <tr>\n",
       "      <th>284</th>\n",
       "      <td>47169</td>\n",
       "      <td>10231</td>\n",
       "      <td>Trousdale County</td>\n",
       "      <td>TENNESSEE</td>\n",
       "      <td>Urban</td>\n",
       "    </tr>\n",
       "    <tr>\n",
       "      <th>285</th>\n",
       "      <td>47027</td>\n",
       "      <td>7654</td>\n",
       "      <td>Clay County</td>\n",
       "      <td>TENNESSEE</td>\n",
       "      <td>Rural</td>\n",
       "    </tr>\n",
       "    <tr>\n",
       "      <th>405</th>\n",
       "      <td>47157</td>\n",
       "      <td>936374</td>\n",
       "      <td>Shelby County</td>\n",
       "      <td>TENNESSEE</td>\n",
       "      <td>Urban</td>\n",
       "    </tr>\n",
       "    <tr>\n",
       "      <th>406</th>\n",
       "      <td>47077</td>\n",
       "      <td>27977</td>\n",
       "      <td>Henderson County</td>\n",
       "      <td>TENNESSEE</td>\n",
       "      <td>Rural</td>\n",
       "    </tr>\n",
       "  </tbody>\n",
       "</table>\n",
       "</div>"
      ],
      "text/plain": [
       "      FIPS  population            county      state  urban\n",
       "283  47165      183437     Sumner County  TENNESSEE  Urban\n",
       "284  47169       10231  Trousdale County  TENNESSEE  Urban\n",
       "285  47027        7654       Clay County  TENNESSEE  Rural\n",
       "405  47157      936374     Shelby County  TENNESSEE  Urban\n",
       "406  47077       27977  Henderson County  TENNESSEE  Rural"
      ]
     },
     "execution_count": 12,
     "metadata": {},
     "output_type": "execute_result"
    }
   ],
   "source": [
    "population.head()"
   ]
  },
  {
   "cell_type": "markdown",
   "id": "8ca7d2c0",
   "metadata": {},
   "source": [
    "first filter state and save as new df, need to change state case? county also needs to drop county from name."
   ]
  },
  {
   "cell_type": "code",
   "execution_count": 13,
   "id": "0a7dbeb3",
   "metadata": {},
   "outputs": [],
   "source": [
    "physicians['state'] = physicians['state'].str.upper()"
   ]
  },
  {
   "cell_type": "code",
   "execution_count": 14,
   "id": "74a32b2f",
   "metadata": {
    "scrolled": true
   },
   "outputs": [
    {
     "data": {
      "text/html": [
       "<div>\n",
       "<style scoped>\n",
       "    .dataframe tbody tr th:only-of-type {\n",
       "        vertical-align: middle;\n",
       "    }\n",
       "\n",
       "    .dataframe tbody tr th {\n",
       "        vertical-align: top;\n",
       "    }\n",
       "\n",
       "    .dataframe thead th {\n",
       "        text-align: right;\n",
       "    }\n",
       "</style>\n",
       "<table border=\"1\" class=\"dataframe\">\n",
       "  <thead>\n",
       "    <tr style=\"text-align: right;\">\n",
       "      <th></th>\n",
       "      <th>FIPS</th>\n",
       "      <th>state</th>\n",
       "      <th>county</th>\n",
       "      <th>primary_care_physicians</th>\n",
       "    </tr>\n",
       "  </thead>\n",
       "  <tbody>\n",
       "    <tr>\n",
       "      <th>2432</th>\n",
       "      <td>47001</td>\n",
       "      <td>TENNESSEE</td>\n",
       "      <td>Anderson</td>\n",
       "      <td>39.0</td>\n",
       "    </tr>\n",
       "    <tr>\n",
       "      <th>2433</th>\n",
       "      <td>47003</td>\n",
       "      <td>TENNESSEE</td>\n",
       "      <td>Bedford</td>\n",
       "      <td>15.0</td>\n",
       "    </tr>\n",
       "    <tr>\n",
       "      <th>2434</th>\n",
       "      <td>47005</td>\n",
       "      <td>TENNESSEE</td>\n",
       "      <td>Benton</td>\n",
       "      <td>3.0</td>\n",
       "    </tr>\n",
       "    <tr>\n",
       "      <th>2435</th>\n",
       "      <td>47007</td>\n",
       "      <td>TENNESSEE</td>\n",
       "      <td>Bledsoe</td>\n",
       "      <td>1.0</td>\n",
       "    </tr>\n",
       "    <tr>\n",
       "      <th>2436</th>\n",
       "      <td>47009</td>\n",
       "      <td>TENNESSEE</td>\n",
       "      <td>Blount</td>\n",
       "      <td>90.0</td>\n",
       "    </tr>\n",
       "  </tbody>\n",
       "</table>\n",
       "</div>"
      ],
      "text/plain": [
       "       FIPS      state    county  primary_care_physicians\n",
       "2432  47001  TENNESSEE  Anderson                     39.0\n",
       "2433  47003  TENNESSEE   Bedford                     15.0\n",
       "2434  47005  TENNESSEE    Benton                      3.0\n",
       "2435  47007  TENNESSEE   Bledsoe                      1.0\n",
       "2436  47009  TENNESSEE    Blount                     90.0"
      ]
     },
     "execution_count": 14,
     "metadata": {},
     "output_type": "execute_result"
    }
   ],
   "source": [
    "physicians.head()"
   ]
  },
  {
   "cell_type": "code",
   "execution_count": 15,
   "id": "3c46247c",
   "metadata": {},
   "outputs": [
    {
     "data": {
      "text/html": [
       "<div>\n",
       "<style scoped>\n",
       "    .dataframe tbody tr th:only-of-type {\n",
       "        vertical-align: middle;\n",
       "    }\n",
       "\n",
       "    .dataframe tbody tr th {\n",
       "        vertical-align: top;\n",
       "    }\n",
       "\n",
       "    .dataframe thead th {\n",
       "        text-align: right;\n",
       "    }\n",
       "</style>\n",
       "<table border=\"1\" class=\"dataframe\">\n",
       "  <thead>\n",
       "    <tr style=\"text-align: right;\">\n",
       "      <th></th>\n",
       "      <th>0</th>\n",
       "      <th>1</th>\n",
       "    </tr>\n",
       "  </thead>\n",
       "  <tbody>\n",
       "    <tr>\n",
       "      <th>283</th>\n",
       "      <td>Sumner</td>\n",
       "      <td>County</td>\n",
       "    </tr>\n",
       "    <tr>\n",
       "      <th>284</th>\n",
       "      <td>Trousdale</td>\n",
       "      <td>County</td>\n",
       "    </tr>\n",
       "    <tr>\n",
       "      <th>285</th>\n",
       "      <td>Clay</td>\n",
       "      <td>County</td>\n",
       "    </tr>\n",
       "    <tr>\n",
       "      <th>405</th>\n",
       "      <td>Shelby</td>\n",
       "      <td>County</td>\n",
       "    </tr>\n",
       "    <tr>\n",
       "      <th>406</th>\n",
       "      <td>Henderson</td>\n",
       "      <td>County</td>\n",
       "    </tr>\n",
       "    <tr>\n",
       "      <th>...</th>\n",
       "      <td>...</td>\n",
       "      <td>...</td>\n",
       "    </tr>\n",
       "    <tr>\n",
       "      <th>3195</th>\n",
       "      <td>Monroe</td>\n",
       "      <td>County</td>\n",
       "    </tr>\n",
       "    <tr>\n",
       "      <th>3196</th>\n",
       "      <td>Henry</td>\n",
       "      <td>County</td>\n",
       "    </tr>\n",
       "    <tr>\n",
       "      <th>3197</th>\n",
       "      <td>Crockett</td>\n",
       "      <td>County</td>\n",
       "    </tr>\n",
       "    <tr>\n",
       "      <th>3198</th>\n",
       "      <td>Lake</td>\n",
       "      <td>County</td>\n",
       "    </tr>\n",
       "    <tr>\n",
       "      <th>3199</th>\n",
       "      <td>Knox</td>\n",
       "      <td>County</td>\n",
       "    </tr>\n",
       "  </tbody>\n",
       "</table>\n",
       "<p>95 rows × 2 columns</p>\n",
       "</div>"
      ],
      "text/plain": [
       "              0       1\n",
       "283      Sumner  County\n",
       "284   Trousdale  County\n",
       "285        Clay  County\n",
       "405      Shelby  County\n",
       "406   Henderson  County\n",
       "...         ...     ...\n",
       "3195     Monroe  County\n",
       "3196      Henry  County\n",
       "3197   Crockett  County\n",
       "3198       Lake  County\n",
       "3199       Knox  County\n",
       "\n",
       "[95 rows x 2 columns]"
      ]
     },
     "execution_count": 15,
     "metadata": {},
     "output_type": "execute_result"
    }
   ],
   "source": [
    "population['county'].str.rsplit(' ', n = 1, expand = True)"
   ]
  },
  {
   "cell_type": "markdown",
   "id": "ff37f3fe",
   "metadata": {},
   "source": [
    "Above code removed 'County' from column in population"
   ]
  },
  {
   "cell_type": "code",
   "execution_count": 16,
   "id": "c6ceea49",
   "metadata": {},
   "outputs": [],
   "source": [
    "population['county'].str.split(' County', expand = True)\n",
    "population['county']=population['county'].str.split(' County', expand = True)[0]"
   ]
  },
  {
   "cell_type": "code",
   "execution_count": 17,
   "id": "65a21e1c",
   "metadata": {},
   "outputs": [
    {
     "data": {
      "text/html": [
       "<div>\n",
       "<style scoped>\n",
       "    .dataframe tbody tr th:only-of-type {\n",
       "        vertical-align: middle;\n",
       "    }\n",
       "\n",
       "    .dataframe tbody tr th {\n",
       "        vertical-align: top;\n",
       "    }\n",
       "\n",
       "    .dataframe thead th {\n",
       "        text-align: right;\n",
       "    }\n",
       "</style>\n",
       "<table border=\"1\" class=\"dataframe\">\n",
       "  <thead>\n",
       "    <tr style=\"text-align: right;\">\n",
       "      <th></th>\n",
       "      <th>FIPS</th>\n",
       "      <th>population</th>\n",
       "      <th>county</th>\n",
       "      <th>state</th>\n",
       "      <th>urban</th>\n",
       "    </tr>\n",
       "  </thead>\n",
       "  <tbody>\n",
       "    <tr>\n",
       "      <th>283</th>\n",
       "      <td>47165</td>\n",
       "      <td>183437</td>\n",
       "      <td>Sumner</td>\n",
       "      <td>TENNESSEE</td>\n",
       "      <td>Urban</td>\n",
       "    </tr>\n",
       "    <tr>\n",
       "      <th>284</th>\n",
       "      <td>47169</td>\n",
       "      <td>10231</td>\n",
       "      <td>Trousdale</td>\n",
       "      <td>TENNESSEE</td>\n",
       "      <td>Urban</td>\n",
       "    </tr>\n",
       "    <tr>\n",
       "      <th>285</th>\n",
       "      <td>47027</td>\n",
       "      <td>7654</td>\n",
       "      <td>Clay</td>\n",
       "      <td>TENNESSEE</td>\n",
       "      <td>Rural</td>\n",
       "    </tr>\n",
       "    <tr>\n",
       "      <th>405</th>\n",
       "      <td>47157</td>\n",
       "      <td>936374</td>\n",
       "      <td>Shelby</td>\n",
       "      <td>TENNESSEE</td>\n",
       "      <td>Urban</td>\n",
       "    </tr>\n",
       "    <tr>\n",
       "      <th>406</th>\n",
       "      <td>47077</td>\n",
       "      <td>27977</td>\n",
       "      <td>Henderson</td>\n",
       "      <td>TENNESSEE</td>\n",
       "      <td>Rural</td>\n",
       "    </tr>\n",
       "  </tbody>\n",
       "</table>\n",
       "</div>"
      ],
      "text/plain": [
       "      FIPS  population     county      state  urban\n",
       "283  47165      183437     Sumner  TENNESSEE  Urban\n",
       "284  47169       10231  Trousdale  TENNESSEE  Urban\n",
       "285  47027        7654       Clay  TENNESSEE  Rural\n",
       "405  47157      936374     Shelby  TENNESSEE  Urban\n",
       "406  47077       27977  Henderson  TENNESSEE  Rural"
      ]
     },
     "execution_count": 17,
     "metadata": {},
     "output_type": "execute_result"
    }
   ],
   "source": [
    "population.head()"
   ]
  },
  {
   "cell_type": "code",
   "execution_count": 18,
   "id": "6dd089ca",
   "metadata": {},
   "outputs": [
    {
     "data": {
      "text/html": [
       "<div>\n",
       "<style scoped>\n",
       "    .dataframe tbody tr th:only-of-type {\n",
       "        vertical-align: middle;\n",
       "    }\n",
       "\n",
       "    .dataframe tbody tr th {\n",
       "        vertical-align: top;\n",
       "    }\n",
       "\n",
       "    .dataframe thead th {\n",
       "        text-align: right;\n",
       "    }\n",
       "</style>\n",
       "<table border=\"1\" class=\"dataframe\">\n",
       "  <thead>\n",
       "    <tr style=\"text-align: right;\">\n",
       "      <th></th>\n",
       "      <th>FIPS</th>\n",
       "      <th>state</th>\n",
       "      <th>county</th>\n",
       "      <th>primary_care_physicians</th>\n",
       "    </tr>\n",
       "  </thead>\n",
       "  <tbody>\n",
       "    <tr>\n",
       "      <th>2432</th>\n",
       "      <td>47001</td>\n",
       "      <td>TENNESSEE</td>\n",
       "      <td>Anderson</td>\n",
       "      <td>39.0</td>\n",
       "    </tr>\n",
       "    <tr>\n",
       "      <th>2433</th>\n",
       "      <td>47003</td>\n",
       "      <td>TENNESSEE</td>\n",
       "      <td>Bedford</td>\n",
       "      <td>15.0</td>\n",
       "    </tr>\n",
       "    <tr>\n",
       "      <th>2434</th>\n",
       "      <td>47005</td>\n",
       "      <td>TENNESSEE</td>\n",
       "      <td>Benton</td>\n",
       "      <td>3.0</td>\n",
       "    </tr>\n",
       "    <tr>\n",
       "      <th>2435</th>\n",
       "      <td>47007</td>\n",
       "      <td>TENNESSEE</td>\n",
       "      <td>Bledsoe</td>\n",
       "      <td>1.0</td>\n",
       "    </tr>\n",
       "    <tr>\n",
       "      <th>2436</th>\n",
       "      <td>47009</td>\n",
       "      <td>TENNESSEE</td>\n",
       "      <td>Blount</td>\n",
       "      <td>90.0</td>\n",
       "    </tr>\n",
       "  </tbody>\n",
       "</table>\n",
       "</div>"
      ],
      "text/plain": [
       "       FIPS      state    county  primary_care_physicians\n",
       "2432  47001  TENNESSEE  Anderson                     39.0\n",
       "2433  47003  TENNESSEE   Bedford                     15.0\n",
       "2434  47005  TENNESSEE    Benton                      3.0\n",
       "2435  47007  TENNESSEE   Bledsoe                      1.0\n",
       "2436  47009  TENNESSEE    Blount                     90.0"
      ]
     },
     "execution_count": 18,
     "metadata": {},
     "output_type": "execute_result"
    }
   ],
   "source": [
    "physicians.head()"
   ]
  },
  {
   "cell_type": "code",
   "execution_count": 19,
   "id": "894908bb",
   "metadata": {},
   "outputs": [
    {
     "data": {
      "text/plain": [
       "Humphreys    1\n",
       "DeKalb       1\n",
       "Sumner       1\n",
       "Monroe       1\n",
       "Cannon       1\n",
       "            ..\n",
       "Hardin       1\n",
       "Haywood      1\n",
       "Rhea         1\n",
       "Jackson      1\n",
       "Weakley      1\n",
       "Name: county, Length: 95, dtype: int64"
      ]
     },
     "execution_count": 19,
     "metadata": {},
     "output_type": "execute_result"
    }
   ],
   "source": [
    "physicians['county'].value_counts()"
   ]
  },
  {
   "cell_type": "code",
   "execution_count": 20,
   "id": "2632b08c",
   "metadata": {},
   "outputs": [
    {
     "data": {
      "text/plain": [
       "Lake         1\n",
       "Henderson    1\n",
       "Marion       1\n",
       "Cannon       1\n",
       "Decatur      1\n",
       "            ..\n",
       "Haywood      1\n",
       "Rhea         1\n",
       "Jackson      1\n",
       "Hickman      1\n",
       "Unicoi       1\n",
       "Name: county, Length: 95, dtype: int64"
      ]
     },
     "execution_count": 20,
     "metadata": {},
     "output_type": "execute_result"
    }
   ],
   "source": [
    "population['county'].value_counts()"
   ]
  },
  {
   "cell_type": "markdown",
   "id": "bce04c35",
   "metadata": {},
   "source": [
    "When you merge, be sure the include both the population and urban columns in the merged results. Save the result of the merge back to physicians."
   ]
  },
  {
   "cell_type": "markdown",
   "id": "c8ba1a05",
   "metadata": {},
   "source": [
    "couldn't merge on 'county' even though i tried to remove 'County' from column in population, the table woudn't print out. I tried to merge on 'state' but would get multiple entries for each row. \n",
    "    merging on 'FIPS' kept the correct number of rows? Unsure why this problem occurs"
   ]
  },
  {
   "cell_type": "markdown",
   "id": "d301ac70",
   "metadata": {},
   "source": [
    "see above code: could split on \" County\". also try str.rsplit? "
   ]
  },
  {
   "cell_type": "code",
   "execution_count": 21,
   "id": "12345e41",
   "metadata": {},
   "outputs": [
    {
     "data": {
      "text/html": [
       "<div>\n",
       "<style scoped>\n",
       "    .dataframe tbody tr th:only-of-type {\n",
       "        vertical-align: middle;\n",
       "    }\n",
       "\n",
       "    .dataframe tbody tr th {\n",
       "        vertical-align: top;\n",
       "    }\n",
       "\n",
       "    .dataframe thead th {\n",
       "        text-align: right;\n",
       "    }\n",
       "</style>\n",
       "<table border=\"1\" class=\"dataframe\">\n",
       "  <thead>\n",
       "    <tr style=\"text-align: right;\">\n",
       "      <th></th>\n",
       "      <th>FIPS</th>\n",
       "      <th>population</th>\n",
       "      <th>county_x</th>\n",
       "      <th>state_x</th>\n",
       "      <th>urban</th>\n",
       "      <th>state_y</th>\n",
       "      <th>county_y</th>\n",
       "      <th>primary_care_physicians</th>\n",
       "    </tr>\n",
       "  </thead>\n",
       "  <tbody>\n",
       "    <tr>\n",
       "      <th>0</th>\n",
       "      <td>47165</td>\n",
       "      <td>183437</td>\n",
       "      <td>Sumner</td>\n",
       "      <td>TENNESSEE</td>\n",
       "      <td>Urban</td>\n",
       "      <td>TENNESSEE</td>\n",
       "      <td>Sumner</td>\n",
       "      <td>91.0</td>\n",
       "    </tr>\n",
       "    <tr>\n",
       "      <th>1</th>\n",
       "      <td>47169</td>\n",
       "      <td>10231</td>\n",
       "      <td>Trousdale</td>\n",
       "      <td>TENNESSEE</td>\n",
       "      <td>Urban</td>\n",
       "      <td>TENNESSEE</td>\n",
       "      <td>Trousdale</td>\n",
       "      <td>2.0</td>\n",
       "    </tr>\n",
       "    <tr>\n",
       "      <th>2</th>\n",
       "      <td>47027</td>\n",
       "      <td>7654</td>\n",
       "      <td>Clay</td>\n",
       "      <td>TENNESSEE</td>\n",
       "      <td>Rural</td>\n",
       "      <td>TENNESSEE</td>\n",
       "      <td>Clay</td>\n",
       "      <td>2.0</td>\n",
       "    </tr>\n",
       "    <tr>\n",
       "      <th>3</th>\n",
       "      <td>47157</td>\n",
       "      <td>936374</td>\n",
       "      <td>Shelby</td>\n",
       "      <td>TENNESSEE</td>\n",
       "      <td>Urban</td>\n",
       "      <td>TENNESSEE</td>\n",
       "      <td>Shelby</td>\n",
       "      <td>806.0</td>\n",
       "    </tr>\n",
       "    <tr>\n",
       "      <th>4</th>\n",
       "      <td>47077</td>\n",
       "      <td>27977</td>\n",
       "      <td>Henderson</td>\n",
       "      <td>TENNESSEE</td>\n",
       "      <td>Rural</td>\n",
       "      <td>TENNESSEE</td>\n",
       "      <td>Henderson</td>\n",
       "      <td>7.0</td>\n",
       "    </tr>\n",
       "    <tr>\n",
       "      <th>...</th>\n",
       "      <td>...</td>\n",
       "      <td>...</td>\n",
       "      <td>...</td>\n",
       "      <td>...</td>\n",
       "      <td>...</td>\n",
       "      <td>...</td>\n",
       "      <td>...</td>\n",
       "      <td>...</td>\n",
       "    </tr>\n",
       "    <tr>\n",
       "      <th>90</th>\n",
       "      <td>47123</td>\n",
       "      <td>46064</td>\n",
       "      <td>Monroe</td>\n",
       "      <td>TENNESSEE</td>\n",
       "      <td>Rural</td>\n",
       "      <td>TENNESSEE</td>\n",
       "      <td>Monroe</td>\n",
       "      <td>9.0</td>\n",
       "    </tr>\n",
       "    <tr>\n",
       "      <th>91</th>\n",
       "      <td>47079</td>\n",
       "      <td>32284</td>\n",
       "      <td>Henry</td>\n",
       "      <td>TENNESSEE</td>\n",
       "      <td>Rural</td>\n",
       "      <td>TENNESSEE</td>\n",
       "      <td>Henry</td>\n",
       "      <td>22.0</td>\n",
       "    </tr>\n",
       "    <tr>\n",
       "      <th>92</th>\n",
       "      <td>47033</td>\n",
       "      <td>14399</td>\n",
       "      <td>Crockett</td>\n",
       "      <td>TENNESSEE</td>\n",
       "      <td>Rural</td>\n",
       "      <td>TENNESSEE</td>\n",
       "      <td>Crockett</td>\n",
       "      <td>0.0</td>\n",
       "    </tr>\n",
       "    <tr>\n",
       "      <th>93</th>\n",
       "      <td>47095</td>\n",
       "      <td>7401</td>\n",
       "      <td>Lake</td>\n",
       "      <td>TENNESSEE</td>\n",
       "      <td>Rural</td>\n",
       "      <td>TENNESSEE</td>\n",
       "      <td>Lake</td>\n",
       "      <td>0.0</td>\n",
       "    </tr>\n",
       "    <tr>\n",
       "      <th>94</th>\n",
       "      <td>47093</td>\n",
       "      <td>461104</td>\n",
       "      <td>Knox</td>\n",
       "      <td>TENNESSEE</td>\n",
       "      <td>Urban</td>\n",
       "      <td>TENNESSEE</td>\n",
       "      <td>Knox</td>\n",
       "      <td>520.0</td>\n",
       "    </tr>\n",
       "  </tbody>\n",
       "</table>\n",
       "<p>95 rows × 8 columns</p>\n",
       "</div>"
      ],
      "text/plain": [
       "     FIPS  population   county_x    state_x  urban    state_y   county_y  \\\n",
       "0   47165      183437     Sumner  TENNESSEE  Urban  TENNESSEE     Sumner   \n",
       "1   47169       10231  Trousdale  TENNESSEE  Urban  TENNESSEE  Trousdale   \n",
       "2   47027        7654       Clay  TENNESSEE  Rural  TENNESSEE       Clay   \n",
       "3   47157      936374     Shelby  TENNESSEE  Urban  TENNESSEE     Shelby   \n",
       "4   47077       27977  Henderson  TENNESSEE  Rural  TENNESSEE  Henderson   \n",
       "..    ...         ...        ...        ...    ...        ...        ...   \n",
       "90  47123       46064     Monroe  TENNESSEE  Rural  TENNESSEE     Monroe   \n",
       "91  47079       32284      Henry  TENNESSEE  Rural  TENNESSEE      Henry   \n",
       "92  47033       14399   Crockett  TENNESSEE  Rural  TENNESSEE   Crockett   \n",
       "93  47095        7401       Lake  TENNESSEE  Rural  TENNESSEE       Lake   \n",
       "94  47093      461104       Knox  TENNESSEE  Urban  TENNESSEE       Knox   \n",
       "\n",
       "    primary_care_physicians  \n",
       "0                      91.0  \n",
       "1                       2.0  \n",
       "2                       2.0  \n",
       "3                     806.0  \n",
       "4                       7.0  \n",
       "..                      ...  \n",
       "90                      9.0  \n",
       "91                     22.0  \n",
       "92                      0.0  \n",
       "93                      0.0  \n",
       "94                    520.0  \n",
       "\n",
       "[95 rows x 8 columns]"
      ]
     },
     "execution_count": 21,
     "metadata": {},
     "output_type": "execute_result"
    }
   ],
   "source": [
    "pd.merge(left = population, right = physicians, left_on = 'FIPS', right_on = 'FIPS')"
   ]
  },
  {
   "cell_type": "code",
   "execution_count": 22,
   "id": "b7d435d8",
   "metadata": {},
   "outputs": [],
   "source": [
    "physicians = pd.merge(left = population[['FIPS', 'population', 'urban']],\n",
    "         right = physicians[['FIPS', 'county', 'state', 'primary_care_physicians']])"
   ]
  },
  {
   "cell_type": "code",
   "execution_count": 23,
   "id": "151bd277",
   "metadata": {
    "scrolled": true
   },
   "outputs": [
    {
     "data": {
      "text/html": [
       "<div>\n",
       "<style scoped>\n",
       "    .dataframe tbody tr th:only-of-type {\n",
       "        vertical-align: middle;\n",
       "    }\n",
       "\n",
       "    .dataframe tbody tr th {\n",
       "        vertical-align: top;\n",
       "    }\n",
       "\n",
       "    .dataframe thead th {\n",
       "        text-align: right;\n",
       "    }\n",
       "</style>\n",
       "<table border=\"1\" class=\"dataframe\">\n",
       "  <thead>\n",
       "    <tr style=\"text-align: right;\">\n",
       "      <th></th>\n",
       "      <th>FIPS</th>\n",
       "      <th>population</th>\n",
       "      <th>urban</th>\n",
       "      <th>county</th>\n",
       "      <th>state</th>\n",
       "      <th>primary_care_physicians</th>\n",
       "    </tr>\n",
       "  </thead>\n",
       "  <tbody>\n",
       "    <tr>\n",
       "      <th>0</th>\n",
       "      <td>47165</td>\n",
       "      <td>183437</td>\n",
       "      <td>Urban</td>\n",
       "      <td>Sumner</td>\n",
       "      <td>TENNESSEE</td>\n",
       "      <td>91.0</td>\n",
       "    </tr>\n",
       "    <tr>\n",
       "      <th>1</th>\n",
       "      <td>47169</td>\n",
       "      <td>10231</td>\n",
       "      <td>Urban</td>\n",
       "      <td>Trousdale</td>\n",
       "      <td>TENNESSEE</td>\n",
       "      <td>2.0</td>\n",
       "    </tr>\n",
       "  </tbody>\n",
       "</table>\n",
       "</div>"
      ],
      "text/plain": [
       "    FIPS  population  urban     county      state  primary_care_physicians\n",
       "0  47165      183437  Urban     Sumner  TENNESSEE                     91.0\n",
       "1  47169       10231  Urban  Trousdale  TENNESSEE                      2.0"
      ]
     },
     "execution_count": 23,
     "metadata": {},
     "output_type": "execute_result"
    }
   ],
   "source": [
    "physicians.head(2)"
   ]
  },
  {
   "cell_type": "code",
   "execution_count": 24,
   "id": "76029db4",
   "metadata": {},
   "outputs": [
    {
     "data": {
      "text/plain": [
       "(95, 6)"
      ]
     },
     "execution_count": 24,
     "metadata": {},
     "output_type": "execute_result"
    }
   ],
   "source": [
    "physicians.shape"
   ]
  },
  {
   "cell_type": "markdown",
   "id": "bbb7d7e4",
   "metadata": {},
   "source": [
    "6. How many Tennessee counties are considered urban? (38)"
   ]
  },
  {
   "cell_type": "code",
   "execution_count": 25,
   "id": "f9343abe",
   "metadata": {
    "scrolled": true
   },
   "outputs": [
    {
     "data": {
      "text/html": [
       "<div>\n",
       "<style scoped>\n",
       "    .dataframe tbody tr th:only-of-type {\n",
       "        vertical-align: middle;\n",
       "    }\n",
       "\n",
       "    .dataframe tbody tr th {\n",
       "        vertical-align: top;\n",
       "    }\n",
       "\n",
       "    .dataframe thead th {\n",
       "        text-align: right;\n",
       "    }\n",
       "</style>\n",
       "<table border=\"1\" class=\"dataframe\">\n",
       "  <thead>\n",
       "    <tr style=\"text-align: right;\">\n",
       "      <th></th>\n",
       "      <th>FIPS</th>\n",
       "      <th>population</th>\n",
       "      <th>primary_care_physicians</th>\n",
       "    </tr>\n",
       "  </thead>\n",
       "  <tbody>\n",
       "    <tr>\n",
       "      <th>count</th>\n",
       "      <td>38.000000</td>\n",
       "      <td>38.000000</td>\n",
       "      <td>38.000000</td>\n",
       "    </tr>\n",
       "    <tr>\n",
       "      <th>mean</th>\n",
       "      <td>47103.789474</td>\n",
       "      <td>131408.552632</td>\n",
       "      <td>108.315789</td>\n",
       "    </tr>\n",
       "    <tr>\n",
       "      <th>std</th>\n",
       "      <td>60.904071</td>\n",
       "      <td>194462.806866</td>\n",
       "      <td>191.346736</td>\n",
       "    </tr>\n",
       "    <tr>\n",
       "      <th>min</th>\n",
       "      <td>47001.000000</td>\n",
       "      <td>10231.000000</td>\n",
       "      <td>1.000000</td>\n",
       "    </tr>\n",
       "    <tr>\n",
       "      <th>25%</th>\n",
       "      <td>47049.500000</td>\n",
       "      <td>23286.250000</td>\n",
       "      <td>6.500000</td>\n",
       "    </tr>\n",
       "    <tr>\n",
       "      <th>50%</th>\n",
       "      <td>47112.000000</td>\n",
       "      <td>56522.000000</td>\n",
       "      <td>22.500000</td>\n",
       "    </tr>\n",
       "    <tr>\n",
       "      <th>75%</th>\n",
       "      <td>47160.500000</td>\n",
       "      <td>134981.250000</td>\n",
       "      <td>90.750000</td>\n",
       "    </tr>\n",
       "    <tr>\n",
       "      <th>max</th>\n",
       "      <td>47189.000000</td>\n",
       "      <td>936374.000000</td>\n",
       "      <td>806.000000</td>\n",
       "    </tr>\n",
       "  </tbody>\n",
       "</table>\n",
       "</div>"
      ],
      "text/plain": [
       "               FIPS     population  primary_care_physicians\n",
       "count     38.000000      38.000000                38.000000\n",
       "mean   47103.789474  131408.552632               108.315789\n",
       "std       60.904071  194462.806866               191.346736\n",
       "min    47001.000000   10231.000000                 1.000000\n",
       "25%    47049.500000   23286.250000                 6.500000\n",
       "50%    47112.000000   56522.000000                22.500000\n",
       "75%    47160.500000  134981.250000                90.750000\n",
       "max    47189.000000  936374.000000               806.000000"
      ]
     },
     "execution_count": 25,
     "metadata": {},
     "output_type": "execute_result"
    }
   ],
   "source": [
    "physicians.loc[(physicians['urban'] == 'Urban')].describe()"
   ]
  },
  {
   "cell_type": "code",
   "execution_count": 26,
   "id": "2486ed0e",
   "metadata": {},
   "outputs": [
    {
     "data": {
      "text/plain": [
       "(38, 6)"
      ]
     },
     "execution_count": 26,
     "metadata": {},
     "output_type": "execute_result"
    }
   ],
   "source": [
    "physicians.loc[(physicians['urban'] == 'Urban')].shape"
   ]
  },
  {
   "cell_type": "code",
   "execution_count": 27,
   "id": "20f0a336",
   "metadata": {},
   "outputs": [
    {
     "data": {
      "text/plain": [
       "Rural    57\n",
       "Urban    38\n",
       "Name: urban, dtype: int64"
      ]
     },
     "execution_count": 27,
     "metadata": {},
     "output_type": "execute_result"
    }
   ],
   "source": [
    "physicians['urban'].value_counts()"
   ]
  },
  {
   "cell_type": "code",
   "execution_count": 28,
   "id": "eff2ed16",
   "metadata": {
    "scrolled": true
   },
   "outputs": [
    {
     "data": {
      "text/html": [
       "<div>\n",
       "<style scoped>\n",
       "    .dataframe tbody tr th:only-of-type {\n",
       "        vertical-align: middle;\n",
       "    }\n",
       "\n",
       "    .dataframe tbody tr th {\n",
       "        vertical-align: top;\n",
       "    }\n",
       "\n",
       "    .dataframe thead th {\n",
       "        text-align: right;\n",
       "    }\n",
       "</style>\n",
       "<table border=\"1\" class=\"dataframe\">\n",
       "  <thead>\n",
       "    <tr style=\"text-align: right;\">\n",
       "      <th></th>\n",
       "      <th>FIPS</th>\n",
       "      <th>population</th>\n",
       "    </tr>\n",
       "  </thead>\n",
       "  <tbody>\n",
       "    <tr>\n",
       "      <th>count</th>\n",
       "      <td>38.000000</td>\n",
       "      <td>38.000000</td>\n",
       "    </tr>\n",
       "    <tr>\n",
       "      <th>mean</th>\n",
       "      <td>47103.789474</td>\n",
       "      <td>131408.552632</td>\n",
       "    </tr>\n",
       "    <tr>\n",
       "      <th>std</th>\n",
       "      <td>60.904071</td>\n",
       "      <td>194462.806866</td>\n",
       "    </tr>\n",
       "    <tr>\n",
       "      <th>min</th>\n",
       "      <td>47001.000000</td>\n",
       "      <td>10231.000000</td>\n",
       "    </tr>\n",
       "    <tr>\n",
       "      <th>25%</th>\n",
       "      <td>47049.500000</td>\n",
       "      <td>23286.250000</td>\n",
       "    </tr>\n",
       "    <tr>\n",
       "      <th>50%</th>\n",
       "      <td>47112.000000</td>\n",
       "      <td>56522.000000</td>\n",
       "    </tr>\n",
       "    <tr>\n",
       "      <th>75%</th>\n",
       "      <td>47160.500000</td>\n",
       "      <td>134981.250000</td>\n",
       "    </tr>\n",
       "    <tr>\n",
       "      <th>max</th>\n",
       "      <td>47189.000000</td>\n",
       "      <td>936374.000000</td>\n",
       "    </tr>\n",
       "  </tbody>\n",
       "</table>\n",
       "</div>"
      ],
      "text/plain": [
       "               FIPS     population\n",
       "count     38.000000      38.000000\n",
       "mean   47103.789474  131408.552632\n",
       "std       60.904071  194462.806866\n",
       "min    47001.000000   10231.000000\n",
       "25%    47049.500000   23286.250000\n",
       "50%    47112.000000   56522.000000\n",
       "75%    47160.500000  134981.250000\n",
       "max    47189.000000  936374.000000"
      ]
     },
     "execution_count": 28,
     "metadata": {},
     "output_type": "execute_result"
    }
   ],
   "source": [
    "population.loc[(population['urban'] == 'Urban')].describe()"
   ]
  },
  {
   "cell_type": "markdown",
   "id": "551c2f20",
   "metadata": {},
   "source": [
    " 7. The State Health Access Data Assistance Center (SHADAC) (https://www.shadac.org/) classifies counties into three groups based on the number of residents per primary care physician. First, counties with fewer than 1500 residents per primary care physician are considered to have an \"adequate\" supply. Counties with at least 1500 residents but fewer than 3500 residents per primary care physician are considered to have a \"moderately inadequate\" supply, and counties with at least 3500 residents per primary care physician are considered to have a \"low inadequate\" supply. How many counties in Tennessee are in each group? "
   ]
  },
  {
   "cell_type": "markdown",
   "id": "013582db",
   "metadata": {},
   "source": [
    "to add a column to table:"
   ]
  },
  {
   "cell_type": "code",
   "execution_count": 29,
   "id": "eed44734",
   "metadata": {},
   "outputs": [],
   "source": [
    "physicians['residents_per_pcp'] = physicians['population'] / physicians['primary_care_physicians']"
   ]
  },
  {
   "cell_type": "code",
   "execution_count": 30,
   "id": "89b5a4a8",
   "metadata": {},
   "outputs": [
    {
     "data": {
      "text/html": [
       "<div>\n",
       "<style scoped>\n",
       "    .dataframe tbody tr th:only-of-type {\n",
       "        vertical-align: middle;\n",
       "    }\n",
       "\n",
       "    .dataframe tbody tr th {\n",
       "        vertical-align: top;\n",
       "    }\n",
       "\n",
       "    .dataframe thead th {\n",
       "        text-align: right;\n",
       "    }\n",
       "</style>\n",
       "<table border=\"1\" class=\"dataframe\">\n",
       "  <thead>\n",
       "    <tr style=\"text-align: right;\">\n",
       "      <th></th>\n",
       "      <th>FIPS</th>\n",
       "      <th>population</th>\n",
       "      <th>urban</th>\n",
       "      <th>county</th>\n",
       "      <th>state</th>\n",
       "      <th>primary_care_physicians</th>\n",
       "      <th>residents_per_pcp</th>\n",
       "    </tr>\n",
       "  </thead>\n",
       "  <tbody>\n",
       "    <tr>\n",
       "      <th>0</th>\n",
       "      <td>47165</td>\n",
       "      <td>183437</td>\n",
       "      <td>Urban</td>\n",
       "      <td>Sumner</td>\n",
       "      <td>TENNESSEE</td>\n",
       "      <td>91.0</td>\n",
       "      <td>2015.791209</td>\n",
       "    </tr>\n",
       "    <tr>\n",
       "      <th>1</th>\n",
       "      <td>47169</td>\n",
       "      <td>10231</td>\n",
       "      <td>Urban</td>\n",
       "      <td>Trousdale</td>\n",
       "      <td>TENNESSEE</td>\n",
       "      <td>2.0</td>\n",
       "      <td>5115.500000</td>\n",
       "    </tr>\n",
       "  </tbody>\n",
       "</table>\n",
       "</div>"
      ],
      "text/plain": [
       "    FIPS  population  urban     county      state  primary_care_physicians  \\\n",
       "0  47165      183437  Urban     Sumner  TENNESSEE                     91.0   \n",
       "1  47169       10231  Urban  Trousdale  TENNESSEE                      2.0   \n",
       "\n",
       "   residents_per_pcp  \n",
       "0        2015.791209  \n",
       "1        5115.500000  "
      ]
     },
     "execution_count": 30,
     "metadata": {},
     "output_type": "execute_result"
    }
   ],
   "source": [
    "physicians.head(2)"
   ]
  },
  {
   "cell_type": "code",
   "execution_count": 31,
   "id": "b764236c",
   "metadata": {},
   "outputs": [
    {
     "data": {
      "text/plain": [
       "FIPS                       14\n",
       "population                 14\n",
       "urban                       2\n",
       "county                     14\n",
       "state                       1\n",
       "primary_care_physicians    14\n",
       "residents_per_pcp          14\n",
       "dtype: int64"
      ]
     },
     "execution_count": 31,
     "metadata": {},
     "output_type": "execute_result"
    }
   ],
   "source": [
    "physicians.loc[(physicians['population'] / physicians['primary_care_physicians'] < 1500)].nunique()"
   ]
  },
  {
   "cell_type": "code",
   "execution_count": 32,
   "id": "9ca0df0a",
   "metadata": {},
   "outputs": [
    {
     "data": {
      "text/plain": [
       "(14, 7)"
      ]
     },
     "execution_count": 32,
     "metadata": {},
     "output_type": "execute_result"
    }
   ],
   "source": [
    "physicians.loc[(physicians['residents_per_pcp'] < 1500)].shape"
   ]
  },
  {
   "cell_type": "code",
   "execution_count": 33,
   "id": "c2d3900e",
   "metadata": {},
   "outputs": [
    {
     "data": {
      "text/plain": [
       "FIPS                       50\n",
       "population                 50\n",
       "urban                       2\n",
       "county                     50\n",
       "state                       1\n",
       "primary_care_physicians    29\n",
       "residents_per_pcp          50\n",
       "dtype: int64"
      ]
     },
     "execution_count": 33,
     "metadata": {},
     "output_type": "execute_result"
    }
   ],
   "source": [
    "physicians.loc[(physicians['population'] / physicians['primary_care_physicians'] >= 1500) & \n",
    "               (physicians['population'] / physicians['primary_care_physicians'] < 3500)].nunique()"
   ]
  },
  {
   "cell_type": "code",
   "execution_count": null,
   "id": "5c425756",
   "metadata": {},
   "outputs": [],
   "source": []
  },
  {
   "cell_type": "code",
   "execution_count": 34,
   "id": "80e243b4",
   "metadata": {},
   "outputs": [
    {
     "data": {
      "text/plain": [
       "FIPS                       31\n",
       "population                 31\n",
       "urban                       2\n",
       "county                     31\n",
       "state                       1\n",
       "primary_care_physicians    10\n",
       "residents_per_pcp          28\n",
       "dtype: int64"
      ]
     },
     "execution_count": 34,
     "metadata": {},
     "output_type": "execute_result"
    }
   ],
   "source": [
    "physicians.loc[(physicians['population'] / physicians['primary_care_physicians'] >= 3500)].nunique()"
   ]
  },
  {
   "cell_type": "code",
   "execution_count": 35,
   "id": "05dc6542",
   "metadata": {},
   "outputs": [
    {
     "data": {
      "text/html": [
       "<div>\n",
       "<style scoped>\n",
       "    .dataframe tbody tr th:only-of-type {\n",
       "        vertical-align: middle;\n",
       "    }\n",
       "\n",
       "    .dataframe tbody tr th {\n",
       "        vertical-align: top;\n",
       "    }\n",
       "\n",
       "    .dataframe thead th {\n",
       "        text-align: right;\n",
       "    }\n",
       "</style>\n",
       "<table border=\"1\" class=\"dataframe\">\n",
       "  <thead>\n",
       "    <tr style=\"text-align: right;\">\n",
       "      <th></th>\n",
       "      <th>FIPS</th>\n",
       "      <th>population</th>\n",
       "      <th>urban</th>\n",
       "      <th>county</th>\n",
       "      <th>state</th>\n",
       "      <th>primary_care_physicians</th>\n",
       "      <th>residents_per_pcp</th>\n",
       "    </tr>\n",
       "  </thead>\n",
       "  <tbody>\n",
       "    <tr>\n",
       "      <th>1</th>\n",
       "      <td>47169</td>\n",
       "      <td>10231</td>\n",
       "      <td>Urban</td>\n",
       "      <td>Trousdale</td>\n",
       "      <td>TENNESSEE</td>\n",
       "      <td>2.0</td>\n",
       "      <td>5.115500e+03</td>\n",
       "    </tr>\n",
       "    <tr>\n",
       "      <th>2</th>\n",
       "      <td>47027</td>\n",
       "      <td>7654</td>\n",
       "      <td>Rural</td>\n",
       "      <td>Clay</td>\n",
       "      <td>TENNESSEE</td>\n",
       "      <td>2.0</td>\n",
       "      <td>3.827000e+03</td>\n",
       "    </tr>\n",
       "    <tr>\n",
       "      <th>4</th>\n",
       "      <td>47077</td>\n",
       "      <td>27977</td>\n",
       "      <td>Rural</td>\n",
       "      <td>Henderson</td>\n",
       "      <td>TENNESSEE</td>\n",
       "      <td>7.0</td>\n",
       "      <td>3.996714e+03</td>\n",
       "    </tr>\n",
       "    <tr>\n",
       "      <th>9</th>\n",
       "      <td>47135</td>\n",
       "      <td>7962</td>\n",
       "      <td>Rural</td>\n",
       "      <td>Perry</td>\n",
       "      <td>TENNESSEE</td>\n",
       "      <td>2.0</td>\n",
       "      <td>3.981000e+03</td>\n",
       "    </tr>\n",
       "    <tr>\n",
       "      <th>11</th>\n",
       "      <td>47075</td>\n",
       "      <td>17623</td>\n",
       "      <td>Rural</td>\n",
       "      <td>Haywood</td>\n",
       "      <td>TENNESSEE</td>\n",
       "      <td>5.0</td>\n",
       "      <td>3.524600e+03</td>\n",
       "    </tr>\n",
       "    <tr>\n",
       "      <th>13</th>\n",
       "      <td>47061</td>\n",
       "      <td>13344</td>\n",
       "      <td>Rural</td>\n",
       "      <td>Grundy</td>\n",
       "      <td>TENNESSEE</td>\n",
       "      <td>0.0</td>\n",
       "      <td>inf</td>\n",
       "    </tr>\n",
       "    <tr>\n",
       "      <th>16</th>\n",
       "      <td>47101</td>\n",
       "      <td>12027</td>\n",
       "      <td>Rural</td>\n",
       "      <td>Lewis</td>\n",
       "      <td>TENNESSEE</td>\n",
       "      <td>2.0</td>\n",
       "      <td>6.013500e+03</td>\n",
       "    </tr>\n",
       "    <tr>\n",
       "      <th>18</th>\n",
       "      <td>47167</td>\n",
       "      <td>61447</td>\n",
       "      <td>Urban</td>\n",
       "      <td>Tipton</td>\n",
       "      <td>TENNESSEE</td>\n",
       "      <td>17.0</td>\n",
       "      <td>3.614529e+03</td>\n",
       "    </tr>\n",
       "    <tr>\n",
       "      <th>25</th>\n",
       "      <td>47117</td>\n",
       "      <td>32965</td>\n",
       "      <td>Rural</td>\n",
       "      <td>Marshall</td>\n",
       "      <td>TENNESSEE</td>\n",
       "      <td>5.0</td>\n",
       "      <td>6.593000e+03</td>\n",
       "    </tr>\n",
       "    <tr>\n",
       "      <th>31</th>\n",
       "      <td>47069</td>\n",
       "      <td>25443</td>\n",
       "      <td>Rural</td>\n",
       "      <td>Hardeman</td>\n",
       "      <td>TENNESSEE</td>\n",
       "      <td>4.0</td>\n",
       "      <td>6.360750e+03</td>\n",
       "    </tr>\n",
       "    <tr>\n",
       "      <th>40</th>\n",
       "      <td>47005</td>\n",
       "      <td>16140</td>\n",
       "      <td>Rural</td>\n",
       "      <td>Benton</td>\n",
       "      <td>TENNESSEE</td>\n",
       "      <td>3.0</td>\n",
       "      <td>5.380000e+03</td>\n",
       "    </tr>\n",
       "    <tr>\n",
       "      <th>41</th>\n",
       "      <td>47007</td>\n",
       "      <td>14836</td>\n",
       "      <td>Rural</td>\n",
       "      <td>Bledsoe</td>\n",
       "      <td>TENNESSEE</td>\n",
       "      <td>1.0</td>\n",
       "      <td>1.483600e+04</td>\n",
       "    </tr>\n",
       "    <tr>\n",
       "      <th>43</th>\n",
       "      <td>47015</td>\n",
       "      <td>14178</td>\n",
       "      <td>Urban</td>\n",
       "      <td>Cannon</td>\n",
       "      <td>TENNESSEE</td>\n",
       "      <td>3.0</td>\n",
       "      <td>4.726000e+03</td>\n",
       "    </tr>\n",
       "    <tr>\n",
       "      <th>44</th>\n",
       "      <td>47083</td>\n",
       "      <td>8164</td>\n",
       "      <td>Rural</td>\n",
       "      <td>Houston</td>\n",
       "      <td>TENNESSEE</td>\n",
       "      <td>2.0</td>\n",
       "      <td>4.082000e+03</td>\n",
       "    </tr>\n",
       "    <tr>\n",
       "      <th>48</th>\n",
       "      <td>47067</td>\n",
       "      <td>6587</td>\n",
       "      <td>Rural</td>\n",
       "      <td>Hancock</td>\n",
       "      <td>TENNESSEE</td>\n",
       "      <td>1.0</td>\n",
       "      <td>6.587000e+03</td>\n",
       "    </tr>\n",
       "    <tr>\n",
       "      <th>49</th>\n",
       "      <td>47073</td>\n",
       "      <td>56611</td>\n",
       "      <td>Urban</td>\n",
       "      <td>Hawkins</td>\n",
       "      <td>TENNESSEE</td>\n",
       "      <td>15.0</td>\n",
       "      <td>3.774067e+03</td>\n",
       "    </tr>\n",
       "    <tr>\n",
       "      <th>52</th>\n",
       "      <td>47111</td>\n",
       "      <td>23842</td>\n",
       "      <td>Urban</td>\n",
       "      <td>Macon</td>\n",
       "      <td>TENNESSEE</td>\n",
       "      <td>4.0</td>\n",
       "      <td>5.960500e+03</td>\n",
       "    </tr>\n",
       "    <tr>\n",
       "      <th>53</th>\n",
       "      <td>47127</td>\n",
       "      <td>6378</td>\n",
       "      <td>Rural</td>\n",
       "      <td>Moore</td>\n",
       "      <td>TENNESSEE</td>\n",
       "      <td>1.0</td>\n",
       "      <td>6.378000e+03</td>\n",
       "    </tr>\n",
       "    <tr>\n",
       "      <th>59</th>\n",
       "      <td>47057</td>\n",
       "      <td>23101</td>\n",
       "      <td>Urban</td>\n",
       "      <td>Grainger</td>\n",
       "      <td>TENNESSEE</td>\n",
       "      <td>5.0</td>\n",
       "      <td>4.620200e+03</td>\n",
       "    </tr>\n",
       "    <tr>\n",
       "      <th>61</th>\n",
       "      <td>47097</td>\n",
       "      <td>25989</td>\n",
       "      <td>Rural</td>\n",
       "      <td>Lauderdale</td>\n",
       "      <td>TENNESSEE</td>\n",
       "      <td>2.0</td>\n",
       "      <td>1.299450e+04</td>\n",
       "    </tr>\n",
       "    <tr>\n",
       "      <th>72</th>\n",
       "      <td>47175</td>\n",
       "      <td>5760</td>\n",
       "      <td>Rural</td>\n",
       "      <td>Van Buren</td>\n",
       "      <td>TENNESSEE</td>\n",
       "      <td>0.0</td>\n",
       "      <td>inf</td>\n",
       "    </tr>\n",
       "    <tr>\n",
       "      <th>74</th>\n",
       "      <td>47081</td>\n",
       "      <td>24813</td>\n",
       "      <td>Urban</td>\n",
       "      <td>Hickman</td>\n",
       "      <td>TENNESSEE</td>\n",
       "      <td>5.0</td>\n",
       "      <td>4.962600e+03</td>\n",
       "    </tr>\n",
       "    <tr>\n",
       "      <th>75</th>\n",
       "      <td>47085</td>\n",
       "      <td>18435</td>\n",
       "      <td>Rural</td>\n",
       "      <td>Humphreys</td>\n",
       "      <td>TENNESSEE</td>\n",
       "      <td>5.0</td>\n",
       "      <td>3.687000e+03</td>\n",
       "    </tr>\n",
       "    <tr>\n",
       "      <th>78</th>\n",
       "      <td>47161</td>\n",
       "      <td>13427</td>\n",
       "      <td>Urban</td>\n",
       "      <td>Stewart</td>\n",
       "      <td>TENNESSEE</td>\n",
       "      <td>1.0</td>\n",
       "      <td>1.342700e+04</td>\n",
       "    </tr>\n",
       "    <tr>\n",
       "      <th>79</th>\n",
       "      <td>47023</td>\n",
       "      <td>17190</td>\n",
       "      <td>Urban</td>\n",
       "      <td>Chester</td>\n",
       "      <td>TENNESSEE</td>\n",
       "      <td>4.0</td>\n",
       "      <td>4.297500e+03</td>\n",
       "    </tr>\n",
       "    <tr>\n",
       "      <th>81</th>\n",
       "      <td>47087</td>\n",
       "      <td>11682</td>\n",
       "      <td>Rural</td>\n",
       "      <td>Jackson</td>\n",
       "      <td>TENNESSEE</td>\n",
       "      <td>2.0</td>\n",
       "      <td>5.841000e+03</td>\n",
       "    </tr>\n",
       "    <tr>\n",
       "      <th>86</th>\n",
       "      <td>47173</td>\n",
       "      <td>19488</td>\n",
       "      <td>Urban</td>\n",
       "      <td>Union</td>\n",
       "      <td>TENNESSEE</td>\n",
       "      <td>3.0</td>\n",
       "      <td>6.496000e+03</td>\n",
       "    </tr>\n",
       "    <tr>\n",
       "      <th>89</th>\n",
       "      <td>47129</td>\n",
       "      <td>21545</td>\n",
       "      <td>Rural</td>\n",
       "      <td>Morgan</td>\n",
       "      <td>TENNESSEE</td>\n",
       "      <td>3.0</td>\n",
       "      <td>7.181667e+03</td>\n",
       "    </tr>\n",
       "    <tr>\n",
       "      <th>90</th>\n",
       "      <td>47123</td>\n",
       "      <td>46064</td>\n",
       "      <td>Rural</td>\n",
       "      <td>Monroe</td>\n",
       "      <td>TENNESSEE</td>\n",
       "      <td>9.0</td>\n",
       "      <td>5.118222e+03</td>\n",
       "    </tr>\n",
       "    <tr>\n",
       "      <th>92</th>\n",
       "      <td>47033</td>\n",
       "      <td>14399</td>\n",
       "      <td>Rural</td>\n",
       "      <td>Crockett</td>\n",
       "      <td>TENNESSEE</td>\n",
       "      <td>0.0</td>\n",
       "      <td>inf</td>\n",
       "    </tr>\n",
       "    <tr>\n",
       "      <th>93</th>\n",
       "      <td>47095</td>\n",
       "      <td>7401</td>\n",
       "      <td>Rural</td>\n",
       "      <td>Lake</td>\n",
       "      <td>TENNESSEE</td>\n",
       "      <td>0.0</td>\n",
       "      <td>inf</td>\n",
       "    </tr>\n",
       "  </tbody>\n",
       "</table>\n",
       "</div>"
      ],
      "text/plain": [
       "     FIPS  population  urban      county      state  primary_care_physicians  \\\n",
       "1   47169       10231  Urban   Trousdale  TENNESSEE                      2.0   \n",
       "2   47027        7654  Rural        Clay  TENNESSEE                      2.0   \n",
       "4   47077       27977  Rural   Henderson  TENNESSEE                      7.0   \n",
       "9   47135        7962  Rural       Perry  TENNESSEE                      2.0   \n",
       "11  47075       17623  Rural     Haywood  TENNESSEE                      5.0   \n",
       "13  47061       13344  Rural      Grundy  TENNESSEE                      0.0   \n",
       "16  47101       12027  Rural       Lewis  TENNESSEE                      2.0   \n",
       "18  47167       61447  Urban      Tipton  TENNESSEE                     17.0   \n",
       "25  47117       32965  Rural    Marshall  TENNESSEE                      5.0   \n",
       "31  47069       25443  Rural    Hardeman  TENNESSEE                      4.0   \n",
       "40  47005       16140  Rural      Benton  TENNESSEE                      3.0   \n",
       "41  47007       14836  Rural     Bledsoe  TENNESSEE                      1.0   \n",
       "43  47015       14178  Urban      Cannon  TENNESSEE                      3.0   \n",
       "44  47083        8164  Rural     Houston  TENNESSEE                      2.0   \n",
       "48  47067        6587  Rural     Hancock  TENNESSEE                      1.0   \n",
       "49  47073       56611  Urban     Hawkins  TENNESSEE                     15.0   \n",
       "52  47111       23842  Urban       Macon  TENNESSEE                      4.0   \n",
       "53  47127        6378  Rural       Moore  TENNESSEE                      1.0   \n",
       "59  47057       23101  Urban    Grainger  TENNESSEE                      5.0   \n",
       "61  47097       25989  Rural  Lauderdale  TENNESSEE                      2.0   \n",
       "72  47175        5760  Rural   Van Buren  TENNESSEE                      0.0   \n",
       "74  47081       24813  Urban     Hickman  TENNESSEE                      5.0   \n",
       "75  47085       18435  Rural   Humphreys  TENNESSEE                      5.0   \n",
       "78  47161       13427  Urban     Stewart  TENNESSEE                      1.0   \n",
       "79  47023       17190  Urban     Chester  TENNESSEE                      4.0   \n",
       "81  47087       11682  Rural     Jackson  TENNESSEE                      2.0   \n",
       "86  47173       19488  Urban       Union  TENNESSEE                      3.0   \n",
       "89  47129       21545  Rural      Morgan  TENNESSEE                      3.0   \n",
       "90  47123       46064  Rural      Monroe  TENNESSEE                      9.0   \n",
       "92  47033       14399  Rural    Crockett  TENNESSEE                      0.0   \n",
       "93  47095        7401  Rural        Lake  TENNESSEE                      0.0   \n",
       "\n",
       "    residents_per_pcp  \n",
       "1        5.115500e+03  \n",
       "2        3.827000e+03  \n",
       "4        3.996714e+03  \n",
       "9        3.981000e+03  \n",
       "11       3.524600e+03  \n",
       "13                inf  \n",
       "16       6.013500e+03  \n",
       "18       3.614529e+03  \n",
       "25       6.593000e+03  \n",
       "31       6.360750e+03  \n",
       "40       5.380000e+03  \n",
       "41       1.483600e+04  \n",
       "43       4.726000e+03  \n",
       "44       4.082000e+03  \n",
       "48       6.587000e+03  \n",
       "49       3.774067e+03  \n",
       "52       5.960500e+03  \n",
       "53       6.378000e+03  \n",
       "59       4.620200e+03  \n",
       "61       1.299450e+04  \n",
       "72                inf  \n",
       "74       4.962600e+03  \n",
       "75       3.687000e+03  \n",
       "78       1.342700e+04  \n",
       "79       4.297500e+03  \n",
       "81       5.841000e+03  \n",
       "86       6.496000e+03  \n",
       "89       7.181667e+03  \n",
       "90       5.118222e+03  \n",
       "92                inf  \n",
       "93                inf  "
      ]
     },
     "execution_count": 35,
     "metadata": {},
     "output_type": "execute_result"
    }
   ],
   "source": [
    "physicians.loc[(physicians['population'] / physicians['primary_care_physicians'] >= 3500)]"
   ]
  },
  {
   "cell_type": "markdown",
   "id": "5cc00c0b",
   "metadata": {},
   "source": [
    " 8. Does there appear to be any detectable relationship between whether a county is urban or rural and its supply of primary care physicians?\n",
    " More rural counties have moderately inadequate/low inadequate groups"
   ]
  },
  {
   "cell_type": "code",
   "execution_count": 36,
   "id": "94d99705",
   "metadata": {},
   "outputs": [
    {
     "data": {
      "text/plain": [
       "FIPS                       9\n",
       "population                 9\n",
       "urban                      1\n",
       "county                     9\n",
       "state                      1\n",
       "primary_care_physicians    9\n",
       "residents_per_pcp          9\n",
       "dtype: int64"
      ]
     },
     "execution_count": 36,
     "metadata": {},
     "output_type": "execute_result"
    }
   ],
   "source": [
    "physicians.loc[(physicians['population'] / physicians['primary_care_physicians'] < 1500)\n",
    "              & (physicians['urban'] == 'Urban')].nunique()"
   ]
  },
  {
   "cell_type": "code",
   "execution_count": 37,
   "id": "9ecc871d",
   "metadata": {},
   "outputs": [
    {
     "data": {
      "text/html": [
       "<div>\n",
       "<style scoped>\n",
       "    .dataframe tbody tr th:only-of-type {\n",
       "        vertical-align: middle;\n",
       "    }\n",
       "\n",
       "    .dataframe tbody tr th {\n",
       "        vertical-align: top;\n",
       "    }\n",
       "\n",
       "    .dataframe thead th {\n",
       "        text-align: right;\n",
       "    }\n",
       "</style>\n",
       "<table border=\"1\" class=\"dataframe\">\n",
       "  <thead>\n",
       "    <tr style=\"text-align: right;\">\n",
       "      <th></th>\n",
       "      <th>FIPS</th>\n",
       "      <th>population</th>\n",
       "      <th>primary_care_physicians</th>\n",
       "      <th>residents_per_pcp</th>\n",
       "    </tr>\n",
       "  </thead>\n",
       "  <tbody>\n",
       "    <tr>\n",
       "      <th>count</th>\n",
       "      <td>9.000000</td>\n",
       "      <td>9.000000</td>\n",
       "      <td>9.000000</td>\n",
       "      <td>9.000000</td>\n",
       "    </tr>\n",
       "    <tr>\n",
       "      <th>mean</th>\n",
       "      <td>47111.444444</td>\n",
       "      <td>353742.333333</td>\n",
       "      <td>375.111111</td>\n",
       "      <td>911.093607</td>\n",
       "    </tr>\n",
       "    <tr>\n",
       "      <th>std</th>\n",
       "      <td>64.751662</td>\n",
       "      <td>292472.943977</td>\n",
       "      <td>246.970871</td>\n",
       "      <td>269.278617</td>\n",
       "    </tr>\n",
       "    <tr>\n",
       "      <th>min</th>\n",
       "      <td>47009.000000</td>\n",
       "      <td>97625.000000</td>\n",
       "      <td>90.000000</td>\n",
       "      <td>565.508850</td>\n",
       "    </tr>\n",
       "    <tr>\n",
       "      <th>25%</th>\n",
       "      <td>47065.000000</td>\n",
       "      <td>129927.000000</td>\n",
       "      <td>199.000000</td>\n",
       "      <td>756.782946</td>\n",
       "    </tr>\n",
       "    <tr>\n",
       "      <th>50%</th>\n",
       "      <td>47113.000000</td>\n",
       "      <td>225389.000000</td>\n",
       "      <td>338.000000</td>\n",
       "      <td>886.738462</td>\n",
       "    </tr>\n",
       "    <tr>\n",
       "      <th>75%</th>\n",
       "      <td>47163.000000</td>\n",
       "      <td>461104.000000</td>\n",
       "      <td>520.000000</td>\n",
       "      <td>1033.816541</td>\n",
       "    </tr>\n",
       "    <tr>\n",
       "      <th>max</th>\n",
       "      <td>47187.000000</td>\n",
       "      <td>936374.000000</td>\n",
       "      <td>806.000000</td>\n",
       "      <td>1443.633333</td>\n",
       "    </tr>\n",
       "  </tbody>\n",
       "</table>\n",
       "</div>"
      ],
      "text/plain": [
       "               FIPS     population  primary_care_physicians  residents_per_pcp\n",
       "count      9.000000       9.000000                 9.000000           9.000000\n",
       "mean   47111.444444  353742.333333               375.111111         911.093607\n",
       "std       64.751662  292472.943977               246.970871         269.278617\n",
       "min    47009.000000   97625.000000                90.000000         565.508850\n",
       "25%    47065.000000  129927.000000               199.000000         756.782946\n",
       "50%    47113.000000  225389.000000               338.000000         886.738462\n",
       "75%    47163.000000  461104.000000               520.000000        1033.816541\n",
       "max    47187.000000  936374.000000               806.000000        1443.633333"
      ]
     },
     "execution_count": 37,
     "metadata": {},
     "output_type": "execute_result"
    }
   ],
   "source": [
    "physicians.loc[(physicians['population'] / physicians['primary_care_physicians'] < 1500)\n",
    "              & (physicians['urban'] == 'Urban')].describe()"
   ]
  },
  {
   "cell_type": "code",
   "execution_count": 38,
   "id": "f5988f7d",
   "metadata": {},
   "outputs": [
    {
     "data": {
      "text/plain": [
       "Urban    9\n",
       "Rural    5\n",
       "Name: urban, dtype: int64"
      ]
     },
     "execution_count": 38,
     "metadata": {},
     "output_type": "execute_result"
    }
   ],
   "source": [
    "physicians.loc[(physicians['population'] / physicians['primary_care_physicians'] < 1500)]['urban'].value_counts()"
   ]
  },
  {
   "cell_type": "code",
   "execution_count": 39,
   "id": "5491fb23",
   "metadata": {},
   "outputs": [
    {
     "data": {
      "text/plain": [
       "FIPS                       5\n",
       "population                 5\n",
       "urban                      1\n",
       "county                     5\n",
       "state                      1\n",
       "primary_care_physicians    5\n",
       "residents_per_pcp          5\n",
       "dtype: int64"
      ]
     },
     "execution_count": 39,
     "metadata": {},
     "output_type": "execute_result"
    }
   ],
   "source": [
    "physicians.loc[(physicians['population'] / physicians['primary_care_physicians'] < 1500)\n",
    "              & (physicians['urban'] == 'Rural')].nunique()"
   ]
  },
  {
   "cell_type": "code",
   "execution_count": 40,
   "id": "fc2e5e9c",
   "metadata": {},
   "outputs": [
    {
     "data": {
      "text/plain": [
       "FIPS                       31\n",
       "population                 31\n",
       "urban                       1\n",
       "county                     31\n",
       "state                       1\n",
       "primary_care_physicians    21\n",
       "residents_per_pcp          31\n",
       "dtype: int64"
      ]
     },
     "execution_count": 40,
     "metadata": {},
     "output_type": "execute_result"
    }
   ],
   "source": [
    "physicians.loc[(physicians['population'] / physicians['primary_care_physicians'] >= 1500) & \n",
    "               (physicians['population'] / physicians['primary_care_physicians'] < 3500)\n",
    "              & (physicians['urban'] == 'Rural')].nunique()"
   ]
  },
  {
   "cell_type": "code",
   "execution_count": 41,
   "id": "46fcb4b7",
   "metadata": {},
   "outputs": [
    {
     "data": {
      "text/plain": [
       "FIPS                       19\n",
       "population                 19\n",
       "urban                       1\n",
       "county                     19\n",
       "state                       1\n",
       "primary_care_physicians    19\n",
       "residents_per_pcp          19\n",
       "dtype: int64"
      ]
     },
     "execution_count": 41,
     "metadata": {},
     "output_type": "execute_result"
    }
   ],
   "source": [
    "physicians.loc[(physicians['population'] / physicians['primary_care_physicians'] >= 1500) & \n",
    "               (physicians['population'] / physicians['primary_care_physicians'] < 3500)\n",
    "              & (physicians['urban'] == 'Urban')].nunique()"
   ]
  },
  {
   "cell_type": "code",
   "execution_count": 42,
   "id": "5c047d8f",
   "metadata": {},
   "outputs": [
    {
     "data": {
      "text/plain": [
       "FIPS                       10\n",
       "population                 10\n",
       "urban                       1\n",
       "county                     10\n",
       "state                       1\n",
       "primary_care_physicians     7\n",
       "residents_per_pcp          10\n",
       "dtype: int64"
      ]
     },
     "execution_count": 42,
     "metadata": {},
     "output_type": "execute_result"
    }
   ],
   "source": [
    "physicians.loc[(physicians['population'] / physicians['primary_care_physicians'] >= 3500) &\n",
    "              (physicians['urban'] == 'Urban')].nunique()"
   ]
  },
  {
   "cell_type": "code",
   "execution_count": 43,
   "id": "3d12ace5",
   "metadata": {},
   "outputs": [
    {
     "data": {
      "text/plain": [
       "FIPS                       21\n",
       "population                 21\n",
       "urban                       1\n",
       "county                     21\n",
       "state                       1\n",
       "primary_care_physicians     8\n",
       "residents_per_pcp          18\n",
       "dtype: int64"
      ]
     },
     "execution_count": 43,
     "metadata": {},
     "output_type": "execute_result"
    }
   ],
   "source": [
    "physicians.loc[(physicians['population'] / physicians['primary_care_physicians'] >= 3500) &\n",
    "              (physicians['urban'] == 'Rural')].nunique()"
   ]
  },
  {
   "cell_type": "code",
   "execution_count": 44,
   "id": "2b59a9be",
   "metadata": {},
   "outputs": [],
   "source": [
    "physicians.loc[physicians['residents_per_pcp'] < 1500, 'shadac_category'] = 'adequate'\n",
    "physicians.loc[(physicians['residents_per_pcp'] >= 1500) & \n",
    "          (physicians['residents_per_pcp'] < 3500), 'shadac_category'] = 'moderately inadequate'\n",
    "physicians.loc[(physicians['residents_per_pcp'] >= 3500), 'shadac_category'] = 'low inadequate'"
   ]
  },
  {
   "cell_type": "code",
   "execution_count": 45,
   "id": "2f2fe001",
   "metadata": {},
   "outputs": [
    {
     "data": {
      "text/html": [
       "<div>\n",
       "<style scoped>\n",
       "    .dataframe tbody tr th:only-of-type {\n",
       "        vertical-align: middle;\n",
       "    }\n",
       "\n",
       "    .dataframe tbody tr th {\n",
       "        vertical-align: top;\n",
       "    }\n",
       "\n",
       "    .dataframe thead th {\n",
       "        text-align: right;\n",
       "    }\n",
       "</style>\n",
       "<table border=\"1\" class=\"dataframe\">\n",
       "  <thead>\n",
       "    <tr style=\"text-align: right;\">\n",
       "      <th></th>\n",
       "      <th>FIPS</th>\n",
       "      <th>population</th>\n",
       "      <th>urban</th>\n",
       "      <th>county</th>\n",
       "      <th>state</th>\n",
       "      <th>primary_care_physicians</th>\n",
       "      <th>residents_per_pcp</th>\n",
       "      <th>shadac_category</th>\n",
       "    </tr>\n",
       "  </thead>\n",
       "  <tbody>\n",
       "    <tr>\n",
       "      <th>0</th>\n",
       "      <td>47165</td>\n",
       "      <td>183437</td>\n",
       "      <td>Urban</td>\n",
       "      <td>Sumner</td>\n",
       "      <td>TENNESSEE</td>\n",
       "      <td>91.0</td>\n",
       "      <td>2015.791209</td>\n",
       "      <td>moderately inadequate</td>\n",
       "    </tr>\n",
       "    <tr>\n",
       "      <th>1</th>\n",
       "      <td>47169</td>\n",
       "      <td>10231</td>\n",
       "      <td>Urban</td>\n",
       "      <td>Trousdale</td>\n",
       "      <td>TENNESSEE</td>\n",
       "      <td>2.0</td>\n",
       "      <td>5115.500000</td>\n",
       "      <td>low inadequate</td>\n",
       "    </tr>\n",
       "    <tr>\n",
       "      <th>2</th>\n",
       "      <td>47027</td>\n",
       "      <td>7654</td>\n",
       "      <td>Rural</td>\n",
       "      <td>Clay</td>\n",
       "      <td>TENNESSEE</td>\n",
       "      <td>2.0</td>\n",
       "      <td>3827.000000</td>\n",
       "      <td>low inadequate</td>\n",
       "    </tr>\n",
       "    <tr>\n",
       "      <th>3</th>\n",
       "      <td>47157</td>\n",
       "      <td>936374</td>\n",
       "      <td>Urban</td>\n",
       "      <td>Shelby</td>\n",
       "      <td>TENNESSEE</td>\n",
       "      <td>806.0</td>\n",
       "      <td>1161.754342</td>\n",
       "      <td>adequate</td>\n",
       "    </tr>\n",
       "    <tr>\n",
       "      <th>4</th>\n",
       "      <td>47077</td>\n",
       "      <td>27977</td>\n",
       "      <td>Rural</td>\n",
       "      <td>Henderson</td>\n",
       "      <td>TENNESSEE</td>\n",
       "      <td>7.0</td>\n",
       "      <td>3996.714286</td>\n",
       "      <td>low inadequate</td>\n",
       "    </tr>\n",
       "  </tbody>\n",
       "</table>\n",
       "</div>"
      ],
      "text/plain": [
       "    FIPS  population  urban     county      state  primary_care_physicians  \\\n",
       "0  47165      183437  Urban     Sumner  TENNESSEE                     91.0   \n",
       "1  47169       10231  Urban  Trousdale  TENNESSEE                      2.0   \n",
       "2  47027        7654  Rural       Clay  TENNESSEE                      2.0   \n",
       "3  47157      936374  Urban     Shelby  TENNESSEE                    806.0   \n",
       "4  47077       27977  Rural  Henderson  TENNESSEE                      7.0   \n",
       "\n",
       "   residents_per_pcp        shadac_category  \n",
       "0        2015.791209  moderately inadequate  \n",
       "1        5115.500000         low inadequate  \n",
       "2        3827.000000         low inadequate  \n",
       "3        1161.754342               adequate  \n",
       "4        3996.714286         low inadequate  "
      ]
     },
     "execution_count": 45,
     "metadata": {},
     "output_type": "execute_result"
    }
   ],
   "source": [
    "physicians.head()"
   ]
  },
  {
   "cell_type": "code",
   "execution_count": 48,
   "id": "d11683dd",
   "metadata": {},
   "outputs": [
    {
     "data": {
      "text/plain": [
       "moderately inadequate    50\n",
       "low inadequate           31\n",
       "adequate                 14\n",
       "Name: shadac_category, dtype: int64"
      ]
     },
     "execution_count": 48,
     "metadata": {},
     "output_type": "execute_result"
    }
   ],
   "source": [
    "physicians['shadac_category'].value_counts()"
   ]
  },
  {
   "cell_type": "markdown",
   "id": "fb8a03aa",
   "metadata": {},
   "source": [
    "2. Use this new column to investigate if there is any relationship between a county's status as urban or rural and its SHADAC classification. Create a plot showing what you find."
   ]
  },
  {
   "cell_type": "code",
   "execution_count": 47,
   "id": "f65d3f24",
   "metadata": {},
   "outputs": [],
   "source": [
    "import matplotlib.pyplot as plt"
   ]
  },
  {
   "cell_type": "code",
   "execution_count": 49,
   "id": "0ce78fad",
   "metadata": {},
   "outputs": [
    {
     "data": {
      "text/html": [
       "<div>\n",
       "<style scoped>\n",
       "    .dataframe tbody tr th:only-of-type {\n",
       "        vertical-align: middle;\n",
       "    }\n",
       "\n",
       "    .dataframe tbody tr th {\n",
       "        vertical-align: top;\n",
       "    }\n",
       "\n",
       "    .dataframe thead th {\n",
       "        text-align: right;\n",
       "    }\n",
       "</style>\n",
       "<table border=\"1\" class=\"dataframe\">\n",
       "  <thead>\n",
       "    <tr style=\"text-align: right;\">\n",
       "      <th>shadac_category</th>\n",
       "      <th>adequate</th>\n",
       "      <th>low inadequate</th>\n",
       "      <th>moderately inadequate</th>\n",
       "    </tr>\n",
       "    <tr>\n",
       "      <th>urban</th>\n",
       "      <th></th>\n",
       "      <th></th>\n",
       "      <th></th>\n",
       "    </tr>\n",
       "  </thead>\n",
       "  <tbody>\n",
       "    <tr>\n",
       "      <th>Rural</th>\n",
       "      <td>5</td>\n",
       "      <td>21</td>\n",
       "      <td>31</td>\n",
       "    </tr>\n",
       "    <tr>\n",
       "      <th>Urban</th>\n",
       "      <td>9</td>\n",
       "      <td>10</td>\n",
       "      <td>19</td>\n",
       "    </tr>\n",
       "  </tbody>\n",
       "</table>\n",
       "</div>"
      ],
      "text/plain": [
       "shadac_category  adequate  low inadequate  moderately inadequate\n",
       "urban                                                           \n",
       "Rural                   5              21                     31\n",
       "Urban                   9              10                     19"
      ]
     },
     "execution_count": 49,
     "metadata": {},
     "output_type": "execute_result"
    }
   ],
   "source": [
    "pd.crosstab(physicians['urban'], physicians['shadac_category'])"
   ]
  },
  {
   "cell_type": "code",
   "execution_count": 50,
   "id": "0f86913d",
   "metadata": {},
   "outputs": [
    {
     "data": {
      "image/png": "[encoded data removed]",
      "text/plain": [
       "<Figure size 432x288 with 1 Axes>"
      ]
     },
     "metadata": {
      "needs_background": "light"
     },
     "output_type": "display_data"
    }
   ],
   "source": [
    "pd.crosstab(physicians['urban'], physicians['shadac_category']).plot(kind = 'bar', \n",
    "                                                          stacked = True,       # stacked as opposed to side-by-side\n",
    "                                                          color = ['blue', 'red', 'gold'],     # change the default colors\n",
    "                                                          edgecolor = 'black')              # add a border to the bars\n",
    "plt.title('SHADAC Category by Urban Distinction')                   # add a title\n",
    "plt.xticks(rotation = 0);                                             # change the appearance of the x tick labels"
   ]
  },
  {
   "cell_type": "code",
   "execution_count": 51,
   "id": "d96cc2cd",
   "metadata": {},
   "outputs": [
    {
     "data": {
      "text/html": [
       "<div>\n",
       "<style scoped>\n",
       "    .dataframe tbody tr th:only-of-type {\n",
       "        vertical-align: middle;\n",
       "    }\n",
       "\n",
       "    .dataframe tbody tr th {\n",
       "        vertical-align: top;\n",
       "    }\n",
       "\n",
       "    .dataframe thead th {\n",
       "        text-align: right;\n",
       "    }\n",
       "</style>\n",
       "<table border=\"1\" class=\"dataframe\">\n",
       "  <thead>\n",
       "    <tr style=\"text-align: right;\">\n",
       "      <th>shadac_category</th>\n",
       "      <th>adequate</th>\n",
       "      <th>low inadequate</th>\n",
       "      <th>moderately inadequate</th>\n",
       "    </tr>\n",
       "    <tr>\n",
       "      <th>urban</th>\n",
       "      <th></th>\n",
       "      <th></th>\n",
       "      <th></th>\n",
       "    </tr>\n",
       "  </thead>\n",
       "  <tbody>\n",
       "    <tr>\n",
       "      <th>Rural</th>\n",
       "      <td>0.052632</td>\n",
       "      <td>0.221053</td>\n",
       "      <td>0.326316</td>\n",
       "    </tr>\n",
       "    <tr>\n",
       "      <th>Urban</th>\n",
       "      <td>0.094737</td>\n",
       "      <td>0.105263</td>\n",
       "      <td>0.200000</td>\n",
       "    </tr>\n",
       "  </tbody>\n",
       "</table>\n",
       "</div>"
      ],
      "text/plain": [
       "shadac_category  adequate  low inadequate  moderately inadequate\n",
       "urban                                                           \n",
       "Rural            0.052632        0.221053               0.326316\n",
       "Urban            0.094737        0.105263               0.200000"
      ]
     },
     "execution_count": 51,
     "metadata": {},
     "output_type": "execute_result"
    }
   ],
   "source": [
    "pd.crosstab(physicians['urban'], physicians['shadac_category'], normalize = 'all')"
   ]
  },
  {
   "cell_type": "code",
   "execution_count": 52,
   "id": "a028daaf",
   "metadata": {},
   "outputs": [
    {
     "data": {
      "text/html": [
       "<div>\n",
       "<style scoped>\n",
       "    .dataframe tbody tr th:only-of-type {\n",
       "        vertical-align: middle;\n",
       "    }\n",
       "\n",
       "    .dataframe tbody tr th {\n",
       "        vertical-align: top;\n",
       "    }\n",
       "\n",
       "    .dataframe thead th {\n",
       "        text-align: right;\n",
       "    }\n",
       "</style>\n",
       "<table border=\"1\" class=\"dataframe\">\n",
       "  <thead>\n",
       "    <tr style=\"text-align: right;\">\n",
       "      <th>shadac_category</th>\n",
       "      <th>adequate</th>\n",
       "      <th>low inadequate</th>\n",
       "      <th>moderately inadequate</th>\n",
       "    </tr>\n",
       "    <tr>\n",
       "      <th>urban</th>\n",
       "      <th></th>\n",
       "      <th></th>\n",
       "      <th></th>\n",
       "    </tr>\n",
       "  </thead>\n",
       "  <tbody>\n",
       "    <tr>\n",
       "      <th>Rural</th>\n",
       "      <td>0.087719</td>\n",
       "      <td>0.368421</td>\n",
       "      <td>0.54386</td>\n",
       "    </tr>\n",
       "    <tr>\n",
       "      <th>Urban</th>\n",
       "      <td>0.236842</td>\n",
       "      <td>0.263158</td>\n",
       "      <td>0.50000</td>\n",
       "    </tr>\n",
       "  </tbody>\n",
       "</table>\n",
       "</div>"
      ],
      "text/plain": [
       "shadac_category  adequate  low inadequate  moderately inadequate\n",
       "urban                                                           \n",
       "Rural            0.087719        0.368421                0.54386\n",
       "Urban            0.236842        0.263158                0.50000"
      ]
     },
     "execution_count": 52,
     "metadata": {},
     "output_type": "execute_result"
    }
   ],
   "source": [
    "pd.crosstab(physicians['urban'], physicians['shadac_category'], normalize = 'index')"
   ]
  },
  {
   "cell_type": "code",
   "execution_count": 54,
   "id": "2488ec62",
   "metadata": {},
   "outputs": [
    {
     "data": {
      "image/png": "[encoded data removed]",
      "text/plain": [
       "<Figure size 432x288 with 1 Axes>"
      ]
     },
     "metadata": {
      "needs_background": "light"
     },
     "output_type": "display_data"
    }
   ],
   "source": [
    "(pd.crosstab(physicians['urban'], physicians['shadac_category'], normalize = 'index')*100).plot(kind = 'bar', \n",
    "                                                          stacked = True,       # stacked as opposed to side-by-side\n",
    "                                                          color = ['blue', 'red', 'gold'],     # change the default colors\n",
    "                                                          edgecolor = 'black')              # add a border to the bars\n",
    "plt.title('SHADAC Category by Urban Distinction')                   # add a title\n",
    "plt.xticks(rotation = 0);                                             # change the appearance of the x tick labels\n",
    "plt.legend(bbox_to_anchor = (1, 0.8), loc = 'upper left');"
   ]
  },
  {
   "cell_type": "markdown",
   "id": "311f6fdb",
   "metadata": {},
   "source": [
    "3. Merge the unemployment data (contained in tn_unemployment.csv) into the physicians DataFrame."
   ]
  },
  {
   "cell_type": "code",
   "execution_count": 55,
   "id": "671838bb",
   "metadata": {},
   "outputs": [],
   "source": [
    "unemployment = pd.read_csv('../data/tn_unemployment.csv')"
   ]
  },
  {
   "cell_type": "code",
   "execution_count": 56,
   "id": "e1ee75f4",
   "metadata": {},
   "outputs": [
    {
     "data": {
      "text/html": [
       "<div>\n",
       "<style scoped>\n",
       "    .dataframe tbody tr th:only-of-type {\n",
       "        vertical-align: middle;\n",
       "    }\n",
       "\n",
       "    .dataframe tbody tr th {\n",
       "        vertical-align: top;\n",
       "    }\n",
       "\n",
       "    .dataframe thead th {\n",
       "        text-align: right;\n",
       "    }\n",
       "</style>\n",
       "<table border=\"1\" class=\"dataframe\">\n",
       "  <thead>\n",
       "    <tr style=\"text-align: right;\">\n",
       "      <th></th>\n",
       "      <th>laus_code</th>\n",
       "      <th>State</th>\n",
       "      <th>County</th>\n",
       "      <th>Name</th>\n",
       "      <th>Period</th>\n",
       "      <th>LF</th>\n",
       "      <th>Employed</th>\n",
       "      <th>Unemployed</th>\n",
       "      <th>unemployment_rate</th>\n",
       "    </tr>\n",
       "  </thead>\n",
       "  <tbody>\n",
       "    <tr>\n",
       "      <th>0</th>\n",
       "      <td>CN4700100000000</td>\n",
       "      <td>47</td>\n",
       "      <td>1</td>\n",
       "      <td>Anderson County, TN</td>\n",
       "      <td>Mar-21</td>\n",
       "      <td>34704</td>\n",
       "      <td>33010</td>\n",
       "      <td>1694</td>\n",
       "      <td>4.9</td>\n",
       "    </tr>\n",
       "    <tr>\n",
       "      <th>1</th>\n",
       "      <td>CN4700300000000</td>\n",
       "      <td>47</td>\n",
       "      <td>3</td>\n",
       "      <td>Bedford County, TN</td>\n",
       "      <td>Mar-21</td>\n",
       "      <td>20623</td>\n",
       "      <td>19550</td>\n",
       "      <td>1073</td>\n",
       "      <td>5.2</td>\n",
       "    </tr>\n",
       "  </tbody>\n",
       "</table>\n",
       "</div>"
      ],
      "text/plain": [
       "         laus_code  State  County                 Name  Period     LF  \\\n",
       "0  CN4700100000000     47       1  Anderson County, TN  Mar-21  34704   \n",
       "1  CN4700300000000     47       3   Bedford County, TN  Mar-21  20623   \n",
       "\n",
       "   Employed  Unemployed  unemployment_rate  \n",
       "0     33010        1694                4.9  \n",
       "1     19550        1073                5.2  "
      ]
     },
     "execution_count": 56,
     "metadata": {},
     "output_type": "execute_result"
    }
   ],
   "source": [
    "unemployment.head(2)"
   ]
  },
  {
   "cell_type": "code",
   "execution_count": 57,
   "id": "48e7440a",
   "metadata": {},
   "outputs": [
    {
     "data": {
      "text/html": [
       "<div>\n",
       "<style scoped>\n",
       "    .dataframe tbody tr th:only-of-type {\n",
       "        vertical-align: middle;\n",
       "    }\n",
       "\n",
       "    .dataframe tbody tr th {\n",
       "        vertical-align: top;\n",
       "    }\n",
       "\n",
       "    .dataframe thead th {\n",
       "        text-align: right;\n",
       "    }\n",
       "</style>\n",
       "<table border=\"1\" class=\"dataframe\">\n",
       "  <thead>\n",
       "    <tr style=\"text-align: right;\">\n",
       "      <th></th>\n",
       "      <th>FIPS</th>\n",
       "      <th>population</th>\n",
       "      <th>urban</th>\n",
       "      <th>county</th>\n",
       "      <th>state</th>\n",
       "      <th>primary_care_physicians</th>\n",
       "      <th>residents_per_pcp</th>\n",
       "      <th>shadac_category</th>\n",
       "    </tr>\n",
       "  </thead>\n",
       "  <tbody>\n",
       "    <tr>\n",
       "      <th>0</th>\n",
       "      <td>47165</td>\n",
       "      <td>183437</td>\n",
       "      <td>Urban</td>\n",
       "      <td>Sumner</td>\n",
       "      <td>TENNESSEE</td>\n",
       "      <td>91.0</td>\n",
       "      <td>2015.791209</td>\n",
       "      <td>moderately inadequate</td>\n",
       "    </tr>\n",
       "    <tr>\n",
       "      <th>1</th>\n",
       "      <td>47169</td>\n",
       "      <td>10231</td>\n",
       "      <td>Urban</td>\n",
       "      <td>Trousdale</td>\n",
       "      <td>TENNESSEE</td>\n",
       "      <td>2.0</td>\n",
       "      <td>5115.500000</td>\n",
       "      <td>low inadequate</td>\n",
       "    </tr>\n",
       "  </tbody>\n",
       "</table>\n",
       "</div>"
      ],
      "text/plain": [
       "    FIPS  population  urban     county      state  primary_care_physicians  \\\n",
       "0  47165      183437  Urban     Sumner  TENNESSEE                     91.0   \n",
       "1  47169       10231  Urban  Trousdale  TENNESSEE                      2.0   \n",
       "\n",
       "   residents_per_pcp        shadac_category  \n",
       "0        2015.791209  moderately inadequate  \n",
       "1        5115.500000         low inadequate  "
      ]
     },
     "execution_count": 57,
     "metadata": {},
     "output_type": "execute_result"
    }
   ],
   "source": [
    "physicians.head(2)"
   ]
  },
  {
   "cell_type": "code",
   "execution_count": 61,
   "id": "16fd7cb0",
   "metadata": {},
   "outputs": [
    {
     "data": {
      "text/html": [
       "<div>\n",
       "<style scoped>\n",
       "    .dataframe tbody tr th:only-of-type {\n",
       "        vertical-align: middle;\n",
       "    }\n",
       "\n",
       "    .dataframe tbody tr th {\n",
       "        vertical-align: top;\n",
       "    }\n",
       "\n",
       "    .dataframe thead th {\n",
       "        text-align: right;\n",
       "    }\n",
       "</style>\n",
       "<table border=\"1\" class=\"dataframe\">\n",
       "  <thead>\n",
       "    <tr style=\"text-align: right;\">\n",
       "      <th></th>\n",
       "      <th>laus_code</th>\n",
       "      <th>State</th>\n",
       "      <th>County</th>\n",
       "      <th>Name</th>\n",
       "      <th>Period</th>\n",
       "      <th>LF</th>\n",
       "      <th>Employed</th>\n",
       "      <th>Unemployed</th>\n",
       "      <th>unemployment_rate</th>\n",
       "    </tr>\n",
       "  </thead>\n",
       "  <tbody>\n",
       "    <tr>\n",
       "      <th>0</th>\n",
       "      <td>CN4700100000000</td>\n",
       "      <td>47</td>\n",
       "      <td>1</td>\n",
       "      <td>Anderson</td>\n",
       "      <td>Mar-21</td>\n",
       "      <td>34704</td>\n",
       "      <td>33010</td>\n",
       "      <td>1694</td>\n",
       "      <td>4.9</td>\n",
       "    </tr>\n",
       "    <tr>\n",
       "      <th>1</th>\n",
       "      <td>CN4700300000000</td>\n",
       "      <td>47</td>\n",
       "      <td>3</td>\n",
       "      <td>Bedford</td>\n",
       "      <td>Mar-21</td>\n",
       "      <td>20623</td>\n",
       "      <td>19550</td>\n",
       "      <td>1073</td>\n",
       "      <td>5.2</td>\n",
       "    </tr>\n",
       "  </tbody>\n",
       "</table>\n",
       "</div>"
      ],
      "text/plain": [
       "         laus_code  State  County      Name  Period     LF  Employed  \\\n",
       "0  CN4700100000000     47       1  Anderson  Mar-21  34704     33010   \n",
       "1  CN4700300000000     47       3   Bedford  Mar-21  20623     19550   \n",
       "\n",
       "   Unemployed  unemployment_rate  \n",
       "0        1694                4.9  \n",
       "1        1073                5.2  "
      ]
     },
     "execution_count": 61,
     "metadata": {},
     "output_type": "execute_result"
    }
   ],
   "source": [
    "unemployment['Name'].str.split(' County', expand = True)\n",
    "unemployment['Name']=unemployment['Name'].str.split(' County', expand = True)[0]\n",
    "unemployment.head(2)"
   ]
  },
  {
   "cell_type": "code",
   "execution_count": 63,
   "id": "fe0c07af",
   "metadata": {},
   "outputs": [],
   "source": [
    "physicians = pd.merge(left = physicians,\n",
    "         right = unemployment.rename(columns = {'Name': 'county'}))"
   ]
  },
  {
   "cell_type": "code",
   "execution_count": 64,
   "id": "bb54583c",
   "metadata": {},
   "outputs": [
    {
     "data": {
      "text/html": [
       "<div>\n",
       "<style scoped>\n",
       "    .dataframe tbody tr th:only-of-type {\n",
       "        vertical-align: middle;\n",
       "    }\n",
       "\n",
       "    .dataframe tbody tr th {\n",
       "        vertical-align: top;\n",
       "    }\n",
       "\n",
       "    .dataframe thead th {\n",
       "        text-align: right;\n",
       "    }\n",
       "</style>\n",
       "<table border=\"1\" class=\"dataframe\">\n",
       "  <thead>\n",
       "    <tr style=\"text-align: right;\">\n",
       "      <th></th>\n",
       "      <th>FIPS</th>\n",
       "      <th>population</th>\n",
       "      <th>urban</th>\n",
       "      <th>county</th>\n",
       "      <th>state</th>\n",
       "      <th>primary_care_physicians</th>\n",
       "      <th>residents_per_pcp</th>\n",
       "      <th>shadac_category</th>\n",
       "      <th>laus_code</th>\n",
       "      <th>State</th>\n",
       "      <th>County</th>\n",
       "      <th>Period</th>\n",
       "      <th>LF</th>\n",
       "      <th>Employed</th>\n",
       "      <th>Unemployed</th>\n",
       "      <th>unemployment_rate</th>\n",
       "    </tr>\n",
       "  </thead>\n",
       "  <tbody>\n",
       "    <tr>\n",
       "      <th>0</th>\n",
       "      <td>47165</td>\n",
       "      <td>183437</td>\n",
       "      <td>Urban</td>\n",
       "      <td>Sumner</td>\n",
       "      <td>TENNESSEE</td>\n",
       "      <td>91.0</td>\n",
       "      <td>2015.791209</td>\n",
       "      <td>moderately inadequate</td>\n",
       "      <td>CN4716500000000</td>\n",
       "      <td>47</td>\n",
       "      <td>165</td>\n",
       "      <td>Mar-21</td>\n",
       "      <td>103331</td>\n",
       "      <td>98879</td>\n",
       "      <td>4452</td>\n",
       "      <td>4.3</td>\n",
       "    </tr>\n",
       "    <tr>\n",
       "      <th>1</th>\n",
       "      <td>47169</td>\n",
       "      <td>10231</td>\n",
       "      <td>Urban</td>\n",
       "      <td>Trousdale</td>\n",
       "      <td>TENNESSEE</td>\n",
       "      <td>2.0</td>\n",
       "      <td>5115.500000</td>\n",
       "      <td>low inadequate</td>\n",
       "      <td>CN4716900000000</td>\n",
       "      <td>47</td>\n",
       "      <td>169</td>\n",
       "      <td>Mar-21</td>\n",
       "      <td>5473</td>\n",
       "      <td>5217</td>\n",
       "      <td>256</td>\n",
       "      <td>4.7</td>\n",
       "    </tr>\n",
       "  </tbody>\n",
       "</table>\n",
       "</div>"
      ],
      "text/plain": [
       "    FIPS  population  urban     county      state  primary_care_physicians  \\\n",
       "0  47165      183437  Urban     Sumner  TENNESSEE                     91.0   \n",
       "1  47169       10231  Urban  Trousdale  TENNESSEE                      2.0   \n",
       "\n",
       "   residents_per_pcp        shadac_category        laus_code  State  County  \\\n",
       "0        2015.791209  moderately inadequate  CN4716500000000     47     165   \n",
       "1        5115.500000         low inadequate  CN4716900000000     47     169   \n",
       "\n",
       "   Period      LF  Employed  Unemployed  unemployment_rate  \n",
       "0  Mar-21  103331     98879        4452                4.3  \n",
       "1  Mar-21    5473      5217         256                4.7  "
      ]
     },
     "execution_count": 64,
     "metadata": {},
     "output_type": "execute_result"
    }
   ],
   "source": [
    "physicians.head(2)"
   ]
  },
  {
   "cell_type": "code",
   "execution_count": null,
   "id": "d2994d2d",
   "metadata": {},
   "outputs": [],
   "source": []
  }
 ],
 "metadata": {
  "kernelspec": {
   "display_name": "Python 3",
   "language": "python",
   "name": "python3"
  },
  "language_info": {
   "codemirror_mode": {
    "name": "ipython",
    "version": 3
   },
   "file_extension": ".py",
   "mimetype": "text/x-python",
   "name": "python",
   "nbconvert_exporter": "python",
   "pygments_lexer": "ipython3",
   "version": "3.8.8"
  }
 },
 "nbformat": 4,
 "nbformat_minor": 5
}
