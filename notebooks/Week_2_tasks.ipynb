{
 "cells": [
  {
   "cell_type": "code",
   "execution_count": 29,
   "id": "aea43b3c",
   "metadata": {},
   "outputs": [],
   "source": [
    "import pandas as pd"
   ]
  },
  {
   "cell_type": "code",
   "execution_count": 30,
   "id": "889827f0",
   "metadata": {},
   "outputs": [],
   "source": [
    "physicians = pd.read_csv('../data/primary_care_physicians.csv')"
   ]
  },
  {
   "cell_type": "markdown",
   "id": "997c2efd",
   "metadata": {},
   "source": [
    " 2. Filter `physicians` down to just the counties in Tennessee. Save the filtered dataframe back to `physicians`. Verify that the resulting dataframe has 95 rows."
   ]
  },
  {
   "cell_type": "code",
   "execution_count": 31,
   "id": "3b5c0181",
   "metadata": {},
   "outputs": [],
   "source": [
    "physicians = physicians.loc[physicians['state'] == 'Tennessee']"
   ]
  },
  {
   "cell_type": "code",
   "execution_count": 32,
   "id": "5808ae3c",
   "metadata": {},
   "outputs": [
    {
     "data": {
      "text/html": [
       "<div>\n",
       "<style scoped>\n",
       "    .dataframe tbody tr th:only-of-type {\n",
       "        vertical-align: middle;\n",
       "    }\n",
       "\n",
       "    .dataframe tbody tr th {\n",
       "        vertical-align: top;\n",
       "    }\n",
       "\n",
       "    .dataframe thead th {\n",
       "        text-align: right;\n",
       "    }\n",
       "</style>\n",
       "<table border=\"1\" class=\"dataframe\">\n",
       "  <thead>\n",
       "    <tr style=\"text-align: right;\">\n",
       "      <th></th>\n",
       "      <th>FIPS</th>\n",
       "      <th>state</th>\n",
       "      <th>county</th>\n",
       "      <th>primary_care_physicians</th>\n",
       "    </tr>\n",
       "  </thead>\n",
       "  <tbody>\n",
       "    <tr>\n",
       "      <th>2432</th>\n",
       "      <td>47001</td>\n",
       "      <td>Tennessee</td>\n",
       "      <td>Anderson</td>\n",
       "      <td>39.0</td>\n",
       "    </tr>\n",
       "    <tr>\n",
       "      <th>2433</th>\n",
       "      <td>47003</td>\n",
       "      <td>Tennessee</td>\n",
       "      <td>Bedford</td>\n",
       "      <td>15.0</td>\n",
       "    </tr>\n",
       "    <tr>\n",
       "      <th>2434</th>\n",
       "      <td>47005</td>\n",
       "      <td>Tennessee</td>\n",
       "      <td>Benton</td>\n",
       "      <td>3.0</td>\n",
       "    </tr>\n",
       "    <tr>\n",
       "      <th>2435</th>\n",
       "      <td>47007</td>\n",
       "      <td>Tennessee</td>\n",
       "      <td>Bledsoe</td>\n",
       "      <td>1.0</td>\n",
       "    </tr>\n",
       "    <tr>\n",
       "      <th>2436</th>\n",
       "      <td>47009</td>\n",
       "      <td>Tennessee</td>\n",
       "      <td>Blount</td>\n",
       "      <td>90.0</td>\n",
       "    </tr>\n",
       "  </tbody>\n",
       "</table>\n",
       "</div>"
      ],
      "text/plain": [
       "       FIPS      state    county  primary_care_physicians\n",
       "2432  47001  Tennessee  Anderson                     39.0\n",
       "2433  47003  Tennessee   Bedford                     15.0\n",
       "2434  47005  Tennessee    Benton                      3.0\n",
       "2435  47007  Tennessee   Bledsoe                      1.0\n",
       "2436  47009  Tennessee    Blount                     90.0"
      ]
     },
     "execution_count": 32,
     "metadata": {},
     "output_type": "execute_result"
    }
   ],
   "source": [
    "physicians.head()"
   ]
  },
  {
   "cell_type": "code",
   "execution_count": 33,
   "id": "1628ec6d",
   "metadata": {},
   "outputs": [
    {
     "data": {
      "text/plain": [
       "(95, 4)"
      ]
     },
     "execution_count": 33,
     "metadata": {},
     "output_type": "execute_result"
    }
   ],
   "source": [
    "physicians.shape"
   ]
  },
  {
   "cell_type": "markdown",
   "id": "4bdc1fd1",
   "metadata": {},
   "source": [
    " 3. Look at the distribution of the number of primary care physicians. What do you notice?"
   ]
  },
  {
   "cell_type": "code",
   "execution_count": 34,
   "id": "8927c567",
   "metadata": {},
   "outputs": [
    {
     "data": {
      "text/plain": [
       "2.0      8\n",
       "5.0      7\n",
       "9.0      5\n",
       "0.0      4\n",
       "12.0     4\n",
       "4.0      4\n",
       "18.0     4\n",
       "1.0      4\n",
       "3.0      4\n",
       "21.0     3\n",
       "6.0      3\n",
       "15.0     3\n",
       "19.0     2\n",
       "14.0     2\n",
       "26.0     2\n",
       "23.0     2\n",
       "38.0     2\n",
       "8.0      2\n",
       "39.0     2\n",
       "22.0     2\n",
       "55.0     1\n",
       "806.0    1\n",
       "13.0     1\n",
       "91.0     1\n",
       "520.0    1\n",
       "27.0     1\n",
       "53.0     1\n",
       "11.0     1\n",
       "137.0    1\n",
       "82.0     1\n",
       "199.0    1\n",
       "52.0     1\n",
       "90.0     1\n",
       "403.0    1\n",
       "16.0     1\n",
       "40.0     1\n",
       "37.0     1\n",
       "7.0      1\n",
       "30.0     1\n",
       "226.0    1\n",
       "338.0    1\n",
       "10.0     1\n",
       "43.0     1\n",
       "129.0    1\n",
       "665.0    1\n",
       "17.0     1\n",
       "Name: primary_care_physicians, dtype: int64"
      ]
     },
     "execution_count": 34,
     "metadata": {},
     "output_type": "execute_result"
    }
   ],
   "source": [
    "physicians['primary_care_physicians'].value_counts()"
   ]
  },
  {
   "cell_type": "code",
   "execution_count": 35,
   "id": "d1d3daef",
   "metadata": {},
   "outputs": [
    {
     "data": {
      "text/plain": [
       "count     95.000000\n",
       "mean      51.042105\n",
       "std      129.311426\n",
       "min        0.000000\n",
       "25%        4.500000\n",
       "50%       12.000000\n",
       "75%       26.500000\n",
       "max      806.000000\n",
       "Name: primary_care_physicians, dtype: float64"
      ]
     },
     "execution_count": 35,
     "metadata": {},
     "output_type": "execute_result"
    }
   ],
   "source": [
    "physicians['primary_care_physicians'].describe()"
   ]
  },
  {
   "cell_type": "markdown",
   "id": "0f6251a1",
   "metadata": {},
   "source": [
    " 4. Now, import the population by county dataset (`population_by_county.csv`) into a DataFrame named `population`."
   ]
  },
  {
   "cell_type": "code",
   "execution_count": 36,
   "id": "265bf4e2",
   "metadata": {},
   "outputs": [],
   "source": [
    "population = pd.read_csv('../data/population_by_county.csv')"
   ]
  },
  {
   "cell_type": "code",
   "execution_count": 37,
   "id": "1fa1bab3",
   "metadata": {},
   "outputs": [
    {
     "data": {
      "text/html": [
       "<div>\n",
       "<style scoped>\n",
       "    .dataframe tbody tr th:only-of-type {\n",
       "        vertical-align: middle;\n",
       "    }\n",
       "\n",
       "    .dataframe tbody tr th {\n",
       "        vertical-align: top;\n",
       "    }\n",
       "\n",
       "    .dataframe thead th {\n",
       "        text-align: right;\n",
       "    }\n",
       "</style>\n",
       "<table border=\"1\" class=\"dataframe\">\n",
       "  <thead>\n",
       "    <tr style=\"text-align: right;\">\n",
       "      <th></th>\n",
       "      <th>FIPS</th>\n",
       "      <th>population</th>\n",
       "      <th>county</th>\n",
       "      <th>state</th>\n",
       "      <th>urban</th>\n",
       "    </tr>\n",
       "  </thead>\n",
       "  <tbody>\n",
       "    <tr>\n",
       "      <th>0</th>\n",
       "      <td>17051</td>\n",
       "      <td>21565</td>\n",
       "      <td>Fayette County</td>\n",
       "      <td>ILLINOIS</td>\n",
       "      <td>Rural</td>\n",
       "    </tr>\n",
       "    <tr>\n",
       "      <th>1</th>\n",
       "      <td>17107</td>\n",
       "      <td>29003</td>\n",
       "      <td>Logan County</td>\n",
       "      <td>ILLINOIS</td>\n",
       "      <td>Rural</td>\n",
       "    </tr>\n",
       "    <tr>\n",
       "      <th>2</th>\n",
       "      <td>17165</td>\n",
       "      <td>23994</td>\n",
       "      <td>Saline County</td>\n",
       "      <td>ILLINOIS</td>\n",
       "      <td>Rural</td>\n",
       "    </tr>\n",
       "    <tr>\n",
       "      <th>3</th>\n",
       "      <td>17097</td>\n",
       "      <td>701473</td>\n",
       "      <td>Lake County</td>\n",
       "      <td>ILLINOIS</td>\n",
       "      <td>Urban</td>\n",
       "    </tr>\n",
       "    <tr>\n",
       "      <th>4</th>\n",
       "      <td>17127</td>\n",
       "      <td>14219</td>\n",
       "      <td>Massac County</td>\n",
       "      <td>ILLINOIS</td>\n",
       "      <td>Rural</td>\n",
       "    </tr>\n",
       "  </tbody>\n",
       "</table>\n",
       "</div>"
      ],
      "text/plain": [
       "    FIPS  population          county     state  urban\n",
       "0  17051       21565  Fayette County  ILLINOIS  Rural\n",
       "1  17107       29003    Logan County  ILLINOIS  Rural\n",
       "2  17165       23994   Saline County  ILLINOIS  Rural\n",
       "3  17097      701473     Lake County  ILLINOIS  Urban\n",
       "4  17127       14219   Massac County  ILLINOIS  Rural"
      ]
     },
     "execution_count": 37,
     "metadata": {},
     "output_type": "execute_result"
    }
   ],
   "source": [
    "population.head()"
   ]
  },
  {
   "cell_type": "markdown",
   "id": "17be1b43",
   "metadata": {},
   "source": [
    " 5. Merge the `physicians` DataFrame with the `population` DataFrame. Keep only the values for Tennessee. When you merge, be sure the include both the `population` and `urban` columns in the merged results. Save the result of the merge back to `physicians`."
   ]
  },
  {
   "cell_type": "code",
   "execution_count": 38,
   "id": "46a3c222",
   "metadata": {},
   "outputs": [],
   "source": [
    "population = population.loc[population['state'] == 'TENNESSEE']"
   ]
  },
  {
   "cell_type": "code",
   "execution_count": 39,
   "id": "7d6576ff",
   "metadata": {},
   "outputs": [
    {
     "data": {
      "text/html": [
       "<div>\n",
       "<style scoped>\n",
       "    .dataframe tbody tr th:only-of-type {\n",
       "        vertical-align: middle;\n",
       "    }\n",
       "\n",
       "    .dataframe tbody tr th {\n",
       "        vertical-align: top;\n",
       "    }\n",
       "\n",
       "    .dataframe thead th {\n",
       "        text-align: right;\n",
       "    }\n",
       "</style>\n",
       "<table border=\"1\" class=\"dataframe\">\n",
       "  <thead>\n",
       "    <tr style=\"text-align: right;\">\n",
       "      <th></th>\n",
       "      <th>FIPS</th>\n",
       "      <th>population</th>\n",
       "      <th>county</th>\n",
       "      <th>state</th>\n",
       "      <th>urban</th>\n",
       "    </tr>\n",
       "  </thead>\n",
       "  <tbody>\n",
       "    <tr>\n",
       "      <th>283</th>\n",
       "      <td>47165</td>\n",
       "      <td>183437</td>\n",
       "      <td>Sumner County</td>\n",
       "      <td>TENNESSEE</td>\n",
       "      <td>Urban</td>\n",
       "    </tr>\n",
       "    <tr>\n",
       "      <th>284</th>\n",
       "      <td>47169</td>\n",
       "      <td>10231</td>\n",
       "      <td>Trousdale County</td>\n",
       "      <td>TENNESSEE</td>\n",
       "      <td>Urban</td>\n",
       "    </tr>\n",
       "    <tr>\n",
       "      <th>285</th>\n",
       "      <td>47027</td>\n",
       "      <td>7654</td>\n",
       "      <td>Clay County</td>\n",
       "      <td>TENNESSEE</td>\n",
       "      <td>Rural</td>\n",
       "    </tr>\n",
       "    <tr>\n",
       "      <th>405</th>\n",
       "      <td>47157</td>\n",
       "      <td>936374</td>\n",
       "      <td>Shelby County</td>\n",
       "      <td>TENNESSEE</td>\n",
       "      <td>Urban</td>\n",
       "    </tr>\n",
       "    <tr>\n",
       "      <th>406</th>\n",
       "      <td>47077</td>\n",
       "      <td>27977</td>\n",
       "      <td>Henderson County</td>\n",
       "      <td>TENNESSEE</td>\n",
       "      <td>Rural</td>\n",
       "    </tr>\n",
       "  </tbody>\n",
       "</table>\n",
       "</div>"
      ],
      "text/plain": [
       "      FIPS  population            county      state  urban\n",
       "283  47165      183437     Sumner County  TENNESSEE  Urban\n",
       "284  47169       10231  Trousdale County  TENNESSEE  Urban\n",
       "285  47027        7654       Clay County  TENNESSEE  Rural\n",
       "405  47157      936374     Shelby County  TENNESSEE  Urban\n",
       "406  47077       27977  Henderson County  TENNESSEE  Rural"
      ]
     },
     "execution_count": 39,
     "metadata": {},
     "output_type": "execute_result"
    }
   ],
   "source": [
    "population.head()"
   ]
  },
  {
   "cell_type": "markdown",
   "id": "8ca7d2c0",
   "metadata": {},
   "source": [
    "first filter state and save as new df, need to change state case? county also needs to drop county from name."
   ]
  },
  {
   "cell_type": "code",
   "execution_count": 40,
   "id": "0a7dbeb3",
   "metadata": {},
   "outputs": [],
   "source": [
    "physicians['state'] = physicians['state'].str.upper()"
   ]
  },
  {
   "cell_type": "code",
   "execution_count": 41,
   "id": "74a32b2f",
   "metadata": {},
   "outputs": [
    {
     "data": {
      "text/html": [
       "<div>\n",
       "<style scoped>\n",
       "    .dataframe tbody tr th:only-of-type {\n",
       "        vertical-align: middle;\n",
       "    }\n",
       "\n",
       "    .dataframe tbody tr th {\n",
       "        vertical-align: top;\n",
       "    }\n",
       "\n",
       "    .dataframe thead th {\n",
       "        text-align: right;\n",
       "    }\n",
       "</style>\n",
       "<table border=\"1\" class=\"dataframe\">\n",
       "  <thead>\n",
       "    <tr style=\"text-align: right;\">\n",
       "      <th></th>\n",
       "      <th>FIPS</th>\n",
       "      <th>state</th>\n",
       "      <th>county</th>\n",
       "      <th>primary_care_physicians</th>\n",
       "    </tr>\n",
       "  </thead>\n",
       "  <tbody>\n",
       "    <tr>\n",
       "      <th>2432</th>\n",
       "      <td>47001</td>\n",
       "      <td>TENNESSEE</td>\n",
       "      <td>Anderson</td>\n",
       "      <td>39.0</td>\n",
       "    </tr>\n",
       "    <tr>\n",
       "      <th>2433</th>\n",
       "      <td>47003</td>\n",
       "      <td>TENNESSEE</td>\n",
       "      <td>Bedford</td>\n",
       "      <td>15.0</td>\n",
       "    </tr>\n",
       "    <tr>\n",
       "      <th>2434</th>\n",
       "      <td>47005</td>\n",
       "      <td>TENNESSEE</td>\n",
       "      <td>Benton</td>\n",
       "      <td>3.0</td>\n",
       "    </tr>\n",
       "    <tr>\n",
       "      <th>2435</th>\n",
       "      <td>47007</td>\n",
       "      <td>TENNESSEE</td>\n",
       "      <td>Bledsoe</td>\n",
       "      <td>1.0</td>\n",
       "    </tr>\n",
       "    <tr>\n",
       "      <th>2436</th>\n",
       "      <td>47009</td>\n",
       "      <td>TENNESSEE</td>\n",
       "      <td>Blount</td>\n",
       "      <td>90.0</td>\n",
       "    </tr>\n",
       "  </tbody>\n",
       "</table>\n",
       "</div>"
      ],
      "text/plain": [
       "       FIPS      state    county  primary_care_physicians\n",
       "2432  47001  TENNESSEE  Anderson                     39.0\n",
       "2433  47003  TENNESSEE   Bedford                     15.0\n",
       "2434  47005  TENNESSEE    Benton                      3.0\n",
       "2435  47007  TENNESSEE   Bledsoe                      1.0\n",
       "2436  47009  TENNESSEE    Blount                     90.0"
      ]
     },
     "execution_count": 41,
     "metadata": {},
     "output_type": "execute_result"
    }
   ],
   "source": [
    "physicians.head()"
   ]
  },
  {
   "cell_type": "code",
   "execution_count": 42,
   "id": "3c46247c",
   "metadata": {},
   "outputs": [],
   "source": [
    "population['county'] = population['county'].str.replace('County', '')"
   ]
  },
  {
   "cell_type": "markdown",
   "id": "ff37f3fe",
   "metadata": {},
   "source": [
    "Above code removed 'County' from column in population"
   ]
  },
  {
   "cell_type": "code",
   "execution_count": 43,
   "id": "65a21e1c",
   "metadata": {},
   "outputs": [
    {
     "data": {
      "text/html": [
       "<div>\n",
       "<style scoped>\n",
       "    .dataframe tbody tr th:only-of-type {\n",
       "        vertical-align: middle;\n",
       "    }\n",
       "\n",
       "    .dataframe tbody tr th {\n",
       "        vertical-align: top;\n",
       "    }\n",
       "\n",
       "    .dataframe thead th {\n",
       "        text-align: right;\n",
       "    }\n",
       "</style>\n",
       "<table border=\"1\" class=\"dataframe\">\n",
       "  <thead>\n",
       "    <tr style=\"text-align: right;\">\n",
       "      <th></th>\n",
       "      <th>FIPS</th>\n",
       "      <th>population</th>\n",
       "      <th>county</th>\n",
       "      <th>state</th>\n",
       "      <th>urban</th>\n",
       "    </tr>\n",
       "  </thead>\n",
       "  <tbody>\n",
       "    <tr>\n",
       "      <th>283</th>\n",
       "      <td>47165</td>\n",
       "      <td>183437</td>\n",
       "      <td>Sumner</td>\n",
       "      <td>TENNESSEE</td>\n",
       "      <td>Urban</td>\n",
       "    </tr>\n",
       "    <tr>\n",
       "      <th>284</th>\n",
       "      <td>47169</td>\n",
       "      <td>10231</td>\n",
       "      <td>Trousdale</td>\n",
       "      <td>TENNESSEE</td>\n",
       "      <td>Urban</td>\n",
       "    </tr>\n",
       "    <tr>\n",
       "      <th>285</th>\n",
       "      <td>47027</td>\n",
       "      <td>7654</td>\n",
       "      <td>Clay</td>\n",
       "      <td>TENNESSEE</td>\n",
       "      <td>Rural</td>\n",
       "    </tr>\n",
       "    <tr>\n",
       "      <th>405</th>\n",
       "      <td>47157</td>\n",
       "      <td>936374</td>\n",
       "      <td>Shelby</td>\n",
       "      <td>TENNESSEE</td>\n",
       "      <td>Urban</td>\n",
       "    </tr>\n",
       "    <tr>\n",
       "      <th>406</th>\n",
       "      <td>47077</td>\n",
       "      <td>27977</td>\n",
       "      <td>Henderson</td>\n",
       "      <td>TENNESSEE</td>\n",
       "      <td>Rural</td>\n",
       "    </tr>\n",
       "  </tbody>\n",
       "</table>\n",
       "</div>"
      ],
      "text/plain": [
       "      FIPS  population      county      state  urban\n",
       "283  47165      183437     Sumner   TENNESSEE  Urban\n",
       "284  47169       10231  Trousdale   TENNESSEE  Urban\n",
       "285  47027        7654       Clay   TENNESSEE  Rural\n",
       "405  47157      936374     Shelby   TENNESSEE  Urban\n",
       "406  47077       27977  Henderson   TENNESSEE  Rural"
      ]
     },
     "execution_count": 43,
     "metadata": {},
     "output_type": "execute_result"
    }
   ],
   "source": [
    "population.head()"
   ]
  },
  {
   "cell_type": "code",
   "execution_count": 44,
   "id": "6dd089ca",
   "metadata": {},
   "outputs": [
    {
     "data": {
      "text/html": [
       "<div>\n",
       "<style scoped>\n",
       "    .dataframe tbody tr th:only-of-type {\n",
       "        vertical-align: middle;\n",
       "    }\n",
       "\n",
       "    .dataframe tbody tr th {\n",
       "        vertical-align: top;\n",
       "    }\n",
       "\n",
       "    .dataframe thead th {\n",
       "        text-align: right;\n",
       "    }\n",
       "</style>\n",
       "<table border=\"1\" class=\"dataframe\">\n",
       "  <thead>\n",
       "    <tr style=\"text-align: right;\">\n",
       "      <th></th>\n",
       "      <th>FIPS</th>\n",
       "      <th>state</th>\n",
       "      <th>county</th>\n",
       "      <th>primary_care_physicians</th>\n",
       "    </tr>\n",
       "  </thead>\n",
       "  <tbody>\n",
       "    <tr>\n",
       "      <th>2432</th>\n",
       "      <td>47001</td>\n",
       "      <td>TENNESSEE</td>\n",
       "      <td>Anderson</td>\n",
       "      <td>39.0</td>\n",
       "    </tr>\n",
       "    <tr>\n",
       "      <th>2433</th>\n",
       "      <td>47003</td>\n",
       "      <td>TENNESSEE</td>\n",
       "      <td>Bedford</td>\n",
       "      <td>15.0</td>\n",
       "    </tr>\n",
       "    <tr>\n",
       "      <th>2434</th>\n",
       "      <td>47005</td>\n",
       "      <td>TENNESSEE</td>\n",
       "      <td>Benton</td>\n",
       "      <td>3.0</td>\n",
       "    </tr>\n",
       "    <tr>\n",
       "      <th>2435</th>\n",
       "      <td>47007</td>\n",
       "      <td>TENNESSEE</td>\n",
       "      <td>Bledsoe</td>\n",
       "      <td>1.0</td>\n",
       "    </tr>\n",
       "    <tr>\n",
       "      <th>2436</th>\n",
       "      <td>47009</td>\n",
       "      <td>TENNESSEE</td>\n",
       "      <td>Blount</td>\n",
       "      <td>90.0</td>\n",
       "    </tr>\n",
       "  </tbody>\n",
       "</table>\n",
       "</div>"
      ],
      "text/plain": [
       "       FIPS      state    county  primary_care_physicians\n",
       "2432  47001  TENNESSEE  Anderson                     39.0\n",
       "2433  47003  TENNESSEE   Bedford                     15.0\n",
       "2434  47005  TENNESSEE    Benton                      3.0\n",
       "2435  47007  TENNESSEE   Bledsoe                      1.0\n",
       "2436  47009  TENNESSEE    Blount                     90.0"
      ]
     },
     "execution_count": 44,
     "metadata": {},
     "output_type": "execute_result"
    }
   ],
   "source": [
    "physicians.head()"
   ]
  },
  {
   "cell_type": "code",
   "execution_count": 48,
   "id": "894908bb",
   "metadata": {},
   "outputs": [
    {
     "data": {
      "text/plain": [
       "Rhea          1\n",
       "Chester       1\n",
       "Fayette       1\n",
       "Obion         1\n",
       "Marion        1\n",
       "             ..\n",
       "Polk          1\n",
       "Hickman       1\n",
       "Sequatchie    1\n",
       "Monroe        1\n",
       "Henderson     1\n",
       "Name: county, Length: 95, dtype: int64"
      ]
     },
     "execution_count": 48,
     "metadata": {},
     "output_type": "execute_result"
    }
   ],
   "source": [
    "physicians['county'].value_counts()"
   ]
  },
  {
   "cell_type": "code",
   "execution_count": 50,
   "id": "2632b08c",
   "metadata": {},
   "outputs": [
    {
     "data": {
      "text/plain": [
       "Meigs          1\n",
       "Williamson     1\n",
       "Morgan         1\n",
       "Franklin       1\n",
       "Putnam         1\n",
       "              ..\n",
       "Cocke          1\n",
       "Chester        1\n",
       "Knox           1\n",
       "Montgomery     1\n",
       "Sequatchie     1\n",
       "Name: county, Length: 95, dtype: int64"
      ]
     },
     "execution_count": 50,
     "metadata": {},
     "output_type": "execute_result"
    }
   ],
   "source": [
    "population['county'].value_counts()"
   ]
  },
  {
   "cell_type": "markdown",
   "id": "bce04c35",
   "metadata": {},
   "source": [
    "When you merge, be sure the include both the population and urban columns in the merged results. Save the result of the merge back to physicians."
   ]
  },
  {
   "cell_type": "markdown",
   "id": "c8ba1a05",
   "metadata": {},
   "source": [
    "couldn't merge on 'county' even though i tried to remove 'County' from column in population, the table woudn't print out. I tried to merge on 'state' but would get multiple entries for each row. \n",
    "    merging on 'FIPS' kept the correct number of rows? Unsure why this problem occurs"
   ]
  },
  {
   "cell_type": "code",
   "execution_count": 52,
   "id": "12345e41",
   "metadata": {},
   "outputs": [
    {
     "data": {
      "text/html": [
       "<div>\n",
       "<style scoped>\n",
       "    .dataframe tbody tr th:only-of-type {\n",
       "        vertical-align: middle;\n",
       "    }\n",
       "\n",
       "    .dataframe tbody tr th {\n",
       "        vertical-align: top;\n",
       "    }\n",
       "\n",
       "    .dataframe thead th {\n",
       "        text-align: right;\n",
       "    }\n",
       "</style>\n",
       "<table border=\"1\" class=\"dataframe\">\n",
       "  <thead>\n",
       "    <tr style=\"text-align: right;\">\n",
       "      <th></th>\n",
       "      <th>FIPS</th>\n",
       "      <th>population</th>\n",
       "      <th>county_x</th>\n",
       "      <th>state_x</th>\n",
       "      <th>urban</th>\n",
       "      <th>state_y</th>\n",
       "      <th>county_y</th>\n",
       "      <th>primary_care_physicians</th>\n",
       "    </tr>\n",
       "  </thead>\n",
       "  <tbody>\n",
       "    <tr>\n",
       "      <th>0</th>\n",
       "      <td>47165</td>\n",
       "      <td>183437</td>\n",
       "      <td>Sumner</td>\n",
       "      <td>TENNESSEE</td>\n",
       "      <td>Urban</td>\n",
       "      <td>TENNESSEE</td>\n",
       "      <td>Sumner</td>\n",
       "      <td>91.0</td>\n",
       "    </tr>\n",
       "    <tr>\n",
       "      <th>1</th>\n",
       "      <td>47169</td>\n",
       "      <td>10231</td>\n",
       "      <td>Trousdale</td>\n",
       "      <td>TENNESSEE</td>\n",
       "      <td>Urban</td>\n",
       "      <td>TENNESSEE</td>\n",
       "      <td>Trousdale</td>\n",
       "      <td>2.0</td>\n",
       "    </tr>\n",
       "    <tr>\n",
       "      <th>2</th>\n",
       "      <td>47027</td>\n",
       "      <td>7654</td>\n",
       "      <td>Clay</td>\n",
       "      <td>TENNESSEE</td>\n",
       "      <td>Rural</td>\n",
       "      <td>TENNESSEE</td>\n",
       "      <td>Clay</td>\n",
       "      <td>2.0</td>\n",
       "    </tr>\n",
       "    <tr>\n",
       "      <th>3</th>\n",
       "      <td>47157</td>\n",
       "      <td>936374</td>\n",
       "      <td>Shelby</td>\n",
       "      <td>TENNESSEE</td>\n",
       "      <td>Urban</td>\n",
       "      <td>TENNESSEE</td>\n",
       "      <td>Shelby</td>\n",
       "      <td>806.0</td>\n",
       "    </tr>\n",
       "    <tr>\n",
       "      <th>4</th>\n",
       "      <td>47077</td>\n",
       "      <td>27977</td>\n",
       "      <td>Henderson</td>\n",
       "      <td>TENNESSEE</td>\n",
       "      <td>Rural</td>\n",
       "      <td>TENNESSEE</td>\n",
       "      <td>Henderson</td>\n",
       "      <td>7.0</td>\n",
       "    </tr>\n",
       "    <tr>\n",
       "      <th>...</th>\n",
       "      <td>...</td>\n",
       "      <td>...</td>\n",
       "      <td>...</td>\n",
       "      <td>...</td>\n",
       "      <td>...</td>\n",
       "      <td>...</td>\n",
       "      <td>...</td>\n",
       "      <td>...</td>\n",
       "    </tr>\n",
       "    <tr>\n",
       "      <th>90</th>\n",
       "      <td>47123</td>\n",
       "      <td>46064</td>\n",
       "      <td>Monroe</td>\n",
       "      <td>TENNESSEE</td>\n",
       "      <td>Rural</td>\n",
       "      <td>TENNESSEE</td>\n",
       "      <td>Monroe</td>\n",
       "      <td>9.0</td>\n",
       "    </tr>\n",
       "    <tr>\n",
       "      <th>91</th>\n",
       "      <td>47079</td>\n",
       "      <td>32284</td>\n",
       "      <td>Henry</td>\n",
       "      <td>TENNESSEE</td>\n",
       "      <td>Rural</td>\n",
       "      <td>TENNESSEE</td>\n",
       "      <td>Henry</td>\n",
       "      <td>22.0</td>\n",
       "    </tr>\n",
       "    <tr>\n",
       "      <th>92</th>\n",
       "      <td>47033</td>\n",
       "      <td>14399</td>\n",
       "      <td>Crockett</td>\n",
       "      <td>TENNESSEE</td>\n",
       "      <td>Rural</td>\n",
       "      <td>TENNESSEE</td>\n",
       "      <td>Crockett</td>\n",
       "      <td>0.0</td>\n",
       "    </tr>\n",
       "    <tr>\n",
       "      <th>93</th>\n",
       "      <td>47095</td>\n",
       "      <td>7401</td>\n",
       "      <td>Lake</td>\n",
       "      <td>TENNESSEE</td>\n",
       "      <td>Rural</td>\n",
       "      <td>TENNESSEE</td>\n",
       "      <td>Lake</td>\n",
       "      <td>0.0</td>\n",
       "    </tr>\n",
       "    <tr>\n",
       "      <th>94</th>\n",
       "      <td>47093</td>\n",
       "      <td>461104</td>\n",
       "      <td>Knox</td>\n",
       "      <td>TENNESSEE</td>\n",
       "      <td>Urban</td>\n",
       "      <td>TENNESSEE</td>\n",
       "      <td>Knox</td>\n",
       "      <td>520.0</td>\n",
       "    </tr>\n",
       "  </tbody>\n",
       "</table>\n",
       "<p>95 rows × 8 columns</p>\n",
       "</div>"
      ],
      "text/plain": [
       "     FIPS  population    county_x    state_x  urban    state_y   county_y  \\\n",
       "0   47165      183437     Sumner   TENNESSEE  Urban  TENNESSEE     Sumner   \n",
       "1   47169       10231  Trousdale   TENNESSEE  Urban  TENNESSEE  Trousdale   \n",
       "2   47027        7654       Clay   TENNESSEE  Rural  TENNESSEE       Clay   \n",
       "3   47157      936374     Shelby   TENNESSEE  Urban  TENNESSEE     Shelby   \n",
       "4   47077       27977  Henderson   TENNESSEE  Rural  TENNESSEE  Henderson   \n",
       "..    ...         ...         ...        ...    ...        ...        ...   \n",
       "90  47123       46064     Monroe   TENNESSEE  Rural  TENNESSEE     Monroe   \n",
       "91  47079       32284      Henry   TENNESSEE  Rural  TENNESSEE      Henry   \n",
       "92  47033       14399   Crockett   TENNESSEE  Rural  TENNESSEE   Crockett   \n",
       "93  47095        7401       Lake   TENNESSEE  Rural  TENNESSEE       Lake   \n",
       "94  47093      461104       Knox   TENNESSEE  Urban  TENNESSEE       Knox   \n",
       "\n",
       "    primary_care_physicians  \n",
       "0                      91.0  \n",
       "1                       2.0  \n",
       "2                       2.0  \n",
       "3                     806.0  \n",
       "4                       7.0  \n",
       "..                      ...  \n",
       "90                      9.0  \n",
       "91                     22.0  \n",
       "92                      0.0  \n",
       "93                      0.0  \n",
       "94                    520.0  \n",
       "\n",
       "[95 rows x 8 columns]"
      ]
     },
     "execution_count": 52,
     "metadata": {},
     "output_type": "execute_result"
    }
   ],
   "source": [
    "pd.merge(left = population, right = physicians, left_on = 'FIPS', right_on = 'FIPS')"
   ]
  },
  {
   "cell_type": "code",
   "execution_count": 57,
   "id": "b7d435d8",
   "metadata": {},
   "outputs": [],
   "source": [
    "physicians = pd.merge(left = population[['FIPS', 'population', 'urban']],\n",
    "         right = physicians[['FIPS', 'county', 'state', 'primary_care_physicians']])"
   ]
  },
  {
   "cell_type": "code",
   "execution_count": 58,
   "id": "151bd277",
   "metadata": {
    "scrolled": true
   },
   "outputs": [
    {
     "data": {
      "text/html": [
       "<div>\n",
       "<style scoped>\n",
       "    .dataframe tbody tr th:only-of-type {\n",
       "        vertical-align: middle;\n",
       "    }\n",
       "\n",
       "    .dataframe tbody tr th {\n",
       "        vertical-align: top;\n",
       "    }\n",
       "\n",
       "    .dataframe thead th {\n",
       "        text-align: right;\n",
       "    }\n",
       "</style>\n",
       "<table border=\"1\" class=\"dataframe\">\n",
       "  <thead>\n",
       "    <tr style=\"text-align: right;\">\n",
       "      <th></th>\n",
       "      <th>FIPS</th>\n",
       "      <th>population</th>\n",
       "      <th>urban</th>\n",
       "      <th>county</th>\n",
       "      <th>state</th>\n",
       "      <th>primary_care_physicians</th>\n",
       "    </tr>\n",
       "  </thead>\n",
       "  <tbody>\n",
       "    <tr>\n",
       "      <th>0</th>\n",
       "      <td>47165</td>\n",
       "      <td>183437</td>\n",
       "      <td>Urban</td>\n",
       "      <td>Sumner</td>\n",
       "      <td>TENNESSEE</td>\n",
       "      <td>91.0</td>\n",
       "    </tr>\n",
       "    <tr>\n",
       "      <th>1</th>\n",
       "      <td>47169</td>\n",
       "      <td>10231</td>\n",
       "      <td>Urban</td>\n",
       "      <td>Trousdale</td>\n",
       "      <td>TENNESSEE</td>\n",
       "      <td>2.0</td>\n",
       "    </tr>\n",
       "  </tbody>\n",
       "</table>\n",
       "</div>"
      ],
      "text/plain": [
       "    FIPS  population  urban     county      state  primary_care_physicians\n",
       "0  47165      183437  Urban     Sumner  TENNESSEE                     91.0\n",
       "1  47169       10231  Urban  Trousdale  TENNESSEE                      2.0"
      ]
     },
     "execution_count": 58,
     "metadata": {},
     "output_type": "execute_result"
    }
   ],
   "source": [
    "physicians.head(2)"
   ]
  },
  {
   "cell_type": "code",
   "execution_count": 68,
   "id": "76029db4",
   "metadata": {},
   "outputs": [
    {
     "data": {
      "text/plain": [
       "(95, 6)"
      ]
     },
     "execution_count": 68,
     "metadata": {},
     "output_type": "execute_result"
    }
   ],
   "source": [
    "physicians.shape"
   ]
  },
  {
   "cell_type": "markdown",
   "id": "bbb7d7e4",
   "metadata": {},
   "source": [
    "6. How many Tennessee counties are considered urban? (38)"
   ]
  },
  {
   "cell_type": "code",
   "execution_count": 71,
   "id": "f9343abe",
   "metadata": {},
   "outputs": [
    {
     "data": {
      "text/html": [
       "<div>\n",
       "<style scoped>\n",
       "    .dataframe tbody tr th:only-of-type {\n",
       "        vertical-align: middle;\n",
       "    }\n",
       "\n",
       "    .dataframe tbody tr th {\n",
       "        vertical-align: top;\n",
       "    }\n",
       "\n",
       "    .dataframe thead th {\n",
       "        text-align: right;\n",
       "    }\n",
       "</style>\n",
       "<table border=\"1\" class=\"dataframe\">\n",
       "  <thead>\n",
       "    <tr style=\"text-align: right;\">\n",
       "      <th></th>\n",
       "      <th>FIPS</th>\n",
       "      <th>population</th>\n",
       "      <th>primary_care_physicians</th>\n",
       "    </tr>\n",
       "  </thead>\n",
       "  <tbody>\n",
       "    <tr>\n",
       "      <th>count</th>\n",
       "      <td>38.000000</td>\n",
       "      <td>38.000000</td>\n",
       "      <td>38.000000</td>\n",
       "    </tr>\n",
       "    <tr>\n",
       "      <th>mean</th>\n",
       "      <td>47103.789474</td>\n",
       "      <td>131408.552632</td>\n",
       "      <td>108.315789</td>\n",
       "    </tr>\n",
       "    <tr>\n",
       "      <th>std</th>\n",
       "      <td>60.904071</td>\n",
       "      <td>194462.806866</td>\n",
       "      <td>191.346736</td>\n",
       "    </tr>\n",
       "    <tr>\n",
       "      <th>min</th>\n",
       "      <td>47001.000000</td>\n",
       "      <td>10231.000000</td>\n",
       "      <td>1.000000</td>\n",
       "    </tr>\n",
       "    <tr>\n",
       "      <th>25%</th>\n",
       "      <td>47049.500000</td>\n",
       "      <td>23286.250000</td>\n",
       "      <td>6.500000</td>\n",
       "    </tr>\n",
       "    <tr>\n",
       "      <th>50%</th>\n",
       "      <td>47112.000000</td>\n",
       "      <td>56522.000000</td>\n",
       "      <td>22.500000</td>\n",
       "    </tr>\n",
       "    <tr>\n",
       "      <th>75%</th>\n",
       "      <td>47160.500000</td>\n",
       "      <td>134981.250000</td>\n",
       "      <td>90.750000</td>\n",
       "    </tr>\n",
       "    <tr>\n",
       "      <th>max</th>\n",
       "      <td>47189.000000</td>\n",
       "      <td>936374.000000</td>\n",
       "      <td>806.000000</td>\n",
       "    </tr>\n",
       "  </tbody>\n",
       "</table>\n",
       "</div>"
      ],
      "text/plain": [
       "               FIPS     population  primary_care_physicians\n",
       "count     38.000000      38.000000                38.000000\n",
       "mean   47103.789474  131408.552632               108.315789\n",
       "std       60.904071  194462.806866               191.346736\n",
       "min    47001.000000   10231.000000                 1.000000\n",
       "25%    47049.500000   23286.250000                 6.500000\n",
       "50%    47112.000000   56522.000000                22.500000\n",
       "75%    47160.500000  134981.250000                90.750000\n",
       "max    47189.000000  936374.000000               806.000000"
      ]
     },
     "execution_count": 71,
     "metadata": {},
     "output_type": "execute_result"
    }
   ],
   "source": [
    "physicians.loc[(physicians['urban'] == 'Urban')].describe()"
   ]
  },
  {
   "cell_type": "code",
   "execution_count": 72,
   "id": "eff2ed16",
   "metadata": {},
   "outputs": [
    {
     "data": {
      "text/html": [
       "<div>\n",
       "<style scoped>\n",
       "    .dataframe tbody tr th:only-of-type {\n",
       "        vertical-align: middle;\n",
       "    }\n",
       "\n",
       "    .dataframe tbody tr th {\n",
       "        vertical-align: top;\n",
       "    }\n",
       "\n",
       "    .dataframe thead th {\n",
       "        text-align: right;\n",
       "    }\n",
       "</style>\n",
       "<table border=\"1\" class=\"dataframe\">\n",
       "  <thead>\n",
       "    <tr style=\"text-align: right;\">\n",
       "      <th></th>\n",
       "      <th>FIPS</th>\n",
       "      <th>population</th>\n",
       "    </tr>\n",
       "  </thead>\n",
       "  <tbody>\n",
       "    <tr>\n",
       "      <th>count</th>\n",
       "      <td>38.000000</td>\n",
       "      <td>38.000000</td>\n",
       "    </tr>\n",
       "    <tr>\n",
       "      <th>mean</th>\n",
       "      <td>47103.789474</td>\n",
       "      <td>131408.552632</td>\n",
       "    </tr>\n",
       "    <tr>\n",
       "      <th>std</th>\n",
       "      <td>60.904071</td>\n",
       "      <td>194462.806866</td>\n",
       "    </tr>\n",
       "    <tr>\n",
       "      <th>min</th>\n",
       "      <td>47001.000000</td>\n",
       "      <td>10231.000000</td>\n",
       "    </tr>\n",
       "    <tr>\n",
       "      <th>25%</th>\n",
       "      <td>47049.500000</td>\n",
       "      <td>23286.250000</td>\n",
       "    </tr>\n",
       "    <tr>\n",
       "      <th>50%</th>\n",
       "      <td>47112.000000</td>\n",
       "      <td>56522.000000</td>\n",
       "    </tr>\n",
       "    <tr>\n",
       "      <th>75%</th>\n",
       "      <td>47160.500000</td>\n",
       "      <td>134981.250000</td>\n",
       "    </tr>\n",
       "    <tr>\n",
       "      <th>max</th>\n",
       "      <td>47189.000000</td>\n",
       "      <td>936374.000000</td>\n",
       "    </tr>\n",
       "  </tbody>\n",
       "</table>\n",
       "</div>"
      ],
      "text/plain": [
       "               FIPS     population\n",
       "count     38.000000      38.000000\n",
       "mean   47103.789474  131408.552632\n",
       "std       60.904071  194462.806866\n",
       "min    47001.000000   10231.000000\n",
       "25%    47049.500000   23286.250000\n",
       "50%    47112.000000   56522.000000\n",
       "75%    47160.500000  134981.250000\n",
       "max    47189.000000  936374.000000"
      ]
     },
     "execution_count": 72,
     "metadata": {},
     "output_type": "execute_result"
    }
   ],
   "source": [
    "population.loc[(population['urban'] == 'Urban')].describe()"
   ]
  },
  {
   "cell_type": "markdown",
   "id": "551c2f20",
   "metadata": {},
   "source": [
    " 7. The State Health Access Data Assistance Center (SHADAC) (https://www.shadac.org/) classifies counties into three groups based on the number of residents per primary care physician. First, counties with fewer than 1500 residents per primary care physician are considered to have an \"adequate\" supply. Counties with at least 1500 residents but fewer than 3500 residents per primary care physician are considered to have a \"moderately inadequate\" supply, and counties with at least 3500 residents per primary care physician are considered to have a \"low inadequate\" supply. How many counties in Tennessee are in each group? "
   ]
  },
  {
   "cell_type": "code",
   "execution_count": 85,
   "id": "b764236c",
   "metadata": {},
   "outputs": [
    {
     "data": {
      "text/plain": [
       "FIPS                       14\n",
       "population                 14\n",
       "urban                       2\n",
       "county                     14\n",
       "state                       1\n",
       "primary_care_physicians    14\n",
       "dtype: int64"
      ]
     },
     "execution_count": 85,
     "metadata": {},
     "output_type": "execute_result"
    }
   ],
   "source": [
    "physicians.loc[(physicians['population'] / physicians['primary_care_physicians'] < 1500)].nunique()"
   ]
  },
  {
   "cell_type": "code",
   "execution_count": 82,
   "id": "c2d3900e",
   "metadata": {},
   "outputs": [
    {
     "data": {
      "text/plain": [
       "FIPS                       50\n",
       "population                 50\n",
       "urban                       2\n",
       "county                     50\n",
       "state                       1\n",
       "primary_care_physicians    29\n",
       "dtype: int64"
      ]
     },
     "execution_count": 82,
     "metadata": {},
     "output_type": "execute_result"
    }
   ],
   "source": [
    "physicians.loc[(physicians['population'] / physicians['primary_care_physicians'] >= 1500) & \n",
    "               (physicians['population'] / physicians['primary_care_physicians'] < 3500)].nunique()"
   ]
  },
  {
   "cell_type": "code",
   "execution_count": 86,
   "id": "80e243b4",
   "metadata": {},
   "outputs": [
    {
     "data": {
      "text/plain": [
       "FIPS                       31\n",
       "population                 31\n",
       "urban                       2\n",
       "county                     31\n",
       "state                       1\n",
       "primary_care_physicians    10\n",
       "dtype: int64"
      ]
     },
     "execution_count": 86,
     "metadata": {},
     "output_type": "execute_result"
    }
   ],
   "source": [
    "physicians.loc[(physicians['population'] / physicians['primary_care_physicians'] >= 3500)].nunique()"
   ]
  },
  {
   "cell_type": "markdown",
   "id": "5cc00c0b",
   "metadata": {},
   "source": [
    " 8. Does there appear to be any detectable relationship between whether a county is urban or rural and its supply of primary care physicians?\n",
    " More rural counties have moderately inadequate/low inadequate groups"
   ]
  },
  {
   "cell_type": "code",
   "execution_count": 87,
   "id": "94d99705",
   "metadata": {},
   "outputs": [
    {
     "data": {
      "text/plain": [
       "FIPS                       9\n",
       "population                 9\n",
       "urban                      1\n",
       "county                     9\n",
       "state                      1\n",
       "primary_care_physicians    9\n",
       "dtype: int64"
      ]
     },
     "execution_count": 87,
     "metadata": {},
     "output_type": "execute_result"
    }
   ],
   "source": [
    "physicians.loc[(physicians['population'] / physicians['primary_care_physicians'] < 1500)\n",
    "              & (physicians['urban'] == 'Urban')].nunique()"
   ]
  },
  {
   "cell_type": "code",
   "execution_count": 88,
   "id": "5491fb23",
   "metadata": {},
   "outputs": [
    {
     "data": {
      "text/plain": [
       "FIPS                       5\n",
       "population                 5\n",
       "urban                      1\n",
       "county                     5\n",
       "state                      1\n",
       "primary_care_physicians    5\n",
       "dtype: int64"
      ]
     },
     "execution_count": 88,
     "metadata": {},
     "output_type": "execute_result"
    }
   ],
   "source": [
    "physicians.loc[(physicians['population'] / physicians['primary_care_physicians'] < 1500)\n",
    "              & (physicians['urban'] == 'Rural')].nunique()"
   ]
  },
  {
   "cell_type": "code",
   "execution_count": 89,
   "id": "fc2e5e9c",
   "metadata": {},
   "outputs": [
    {
     "data": {
      "text/plain": [
       "FIPS                       31\n",
       "population                 31\n",
       "urban                       1\n",
       "county                     31\n",
       "state                       1\n",
       "primary_care_physicians    21\n",
       "dtype: int64"
      ]
     },
     "execution_count": 89,
     "metadata": {},
     "output_type": "execute_result"
    }
   ],
   "source": [
    "physicians.loc[(physicians['population'] / physicians['primary_care_physicians'] >= 1500) & \n",
    "               (physicians['population'] / physicians['primary_care_physicians'] < 3500)\n",
    "              & (physicians['urban'] == 'Rural')].nunique()"
   ]
  },
  {
   "cell_type": "code",
   "execution_count": 90,
   "id": "46fcb4b7",
   "metadata": {},
   "outputs": [
    {
     "data": {
      "text/plain": [
       "FIPS                       19\n",
       "population                 19\n",
       "urban                       1\n",
       "county                     19\n",
       "state                       1\n",
       "primary_care_physicians    19\n",
       "dtype: int64"
      ]
     },
     "execution_count": 90,
     "metadata": {},
     "output_type": "execute_result"
    }
   ],
   "source": [
    "physicians.loc[(physicians['population'] / physicians['primary_care_physicians'] >= 1500) & \n",
    "               (physicians['population'] / physicians['primary_care_physicians'] < 3500)\n",
    "              & (physicians['urban'] == 'Urban')].nunique()"
   ]
  },
  {
   "cell_type": "code",
   "execution_count": 91,
   "id": "5c047d8f",
   "metadata": {},
   "outputs": [
    {
     "data": {
      "text/plain": [
       "FIPS                       10\n",
       "population                 10\n",
       "urban                       1\n",
       "county                     10\n",
       "state                       1\n",
       "primary_care_physicians     7\n",
       "dtype: int64"
      ]
     },
     "execution_count": 91,
     "metadata": {},
     "output_type": "execute_result"
    }
   ],
   "source": [
    "physicians.loc[(physicians['population'] / physicians['primary_care_physicians'] >= 3500) &\n",
    "              (physicians['urban'] == 'Urban')].nunique()"
   ]
  },
  {
   "cell_type": "code",
   "execution_count": 92,
   "id": "3d12ace5",
   "metadata": {},
   "outputs": [
    {
     "data": {
      "text/plain": [
       "FIPS                       21\n",
       "population                 21\n",
       "urban                       1\n",
       "county                     21\n",
       "state                       1\n",
       "primary_care_physicians     8\n",
       "dtype: int64"
      ]
     },
     "execution_count": 92,
     "metadata": {},
     "output_type": "execute_result"
    }
   ],
   "source": [
    "physicians.loc[(physicians['population'] / physicians['primary_care_physicians'] >= 3500) &\n",
    "              (physicians['urban'] == 'Rural')].nunique()"
   ]
  },
  {
   "cell_type": "markdown",
   "id": "40321a7e",
   "metadata": {},
   "source": [
    "questions to ask: if i wanted to do the 'population'/'pcp' calculation, add that to df than sort?"
   ]
  }
 ],
 "metadata": {
  "kernelspec": {
   "display_name": "Python 3",
   "language": "python",
   "name": "python3"
  },
  "language_info": {
   "codemirror_mode": {
    "name": "ipython",
    "version": 3
   },
   "file_extension": ".py",
   "mimetype": "text/x-python",
   "name": "python",
   "nbconvert_exporter": "python",
   "pygments_lexer": "ipython3",
   "version": "3.8.8"
  }
 },
 "nbformat": 4,
 "nbformat_minor": 5
}
